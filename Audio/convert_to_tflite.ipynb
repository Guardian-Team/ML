{
  "nbformat": 4,
  "nbformat_minor": 0,
  "metadata": {
    "colab": {
      "name": "convert-to-tflite.ipynb",
      "provenance": []
    },
    "kernelspec": {
      "name": "python3",
      "display_name": "Python 3"
    },
    "language_info": {
      "name": "python"
    }
  },
  "cells": [
    {
      "cell_type": "code",
      "execution_count": 6,
      "metadata": {
        "id": "DYCP6AwuTVXr"
      },
      "outputs": [],
      "source": [
        "import tensorflow as tf\n",
        "import os"
      ]
    },
    {
      "cell_type": "code",
      "source": [
        "tflite_dir = '/content/drive/MyDrive/BANGKIT_CAPSTONE/tflite'+str(3)\n",
        "model_dir = '/content/drive/MyDrive/BANGKIT_CAPSTONE/training_model.h5'"
      ],
      "metadata": {
        "id": "iNvxKB1mmbqK"
      },
      "execution_count": 9,
      "outputs": []
    },
    {
      "cell_type": "code",
      "source": [
        "\n",
        "model = tf.keras.models.load_model(model_dir)\n",
        "model.summary()\n",
        "\n",
        "if os.path.isdir(tflite_dir) != True:\n",
        "    os.mkdir(tflite_dir)\n",
        "    tf.saved_model.save(model, tflite_dir)\n",
        "\n",
        "\n",
        "converter = tf.lite.TFLiteConverter.from_saved_model(tflite_dir) \n",
        "model_converted = converter.convert()\n",
        "\n",
        "with open(tflite_dir+'/model.tflite', 'wb') as tflite:\n",
        "  tflite.write(model_converted)"
      ],
      "metadata": {
        "colab": {
          "base_uri": "https://localhost:8080/"
        },
        "id": "VVXGGL-rUNhh",
        "outputId": "4b0d1062-5217-4e57-c59e-9fd111279c65"
      },
      "execution_count": 10,
      "outputs": [
        {
          "output_type": "stream",
          "name": "stdout",
          "text": [
            "Model: \"sequential_1\"\n",
            "_________________________________________________________________\n",
            " Layer (type)                Output Shape              Param #   \n",
            "=================================================================\n",
            " conv2d_2 (Conv2D)           (None, 42, 11, 64)        640       \n",
            "                                                                 \n",
            " batch_normalization_2 (Batc  (None, 42, 11, 64)       256       \n",
            " hNormalization)                                                 \n",
            "                                                                 \n",
            " max_pooling2d_2 (MaxPooling  (None, 21, 6, 64)        0         \n",
            " 2D)                                                             \n",
            "                                                                 \n",
            " conv2d_3 (Conv2D)           (None, 19, 4, 32)         18464     \n",
            "                                                                 \n",
            " batch_normalization_3 (Batc  (None, 19, 4, 32)        128       \n",
            " hNormalization)                                                 \n",
            "                                                                 \n",
            " max_pooling2d_3 (MaxPooling  (None, 10, 2, 32)        0         \n",
            " 2D)                                                             \n",
            "                                                                 \n",
            " flatten_1 (Flatten)         (None, 640)               0         \n",
            "                                                                 \n",
            " dense_2 (Dense)             (None, 64)                41024     \n",
            "                                                                 \n",
            " dense_3 (Dense)             (None, 4)                 260       \n",
            "                                                                 \n",
            "=================================================================\n",
            "Total params: 60,772\n",
            "Trainable params: 60,580\n",
            "Non-trainable params: 192\n",
            "_________________________________________________________________\n",
            "INFO:tensorflow:Assets written to: /content/drive/MyDrive/BANGKIT_CAPSTONE/tflite3/assets\n"
          ]
        },
        {
          "output_type": "stream",
          "name": "stderr",
          "text": [
            "WARNING:absl:Buffer deduplication procedure will be skipped when flatbuffer library is not properly loaded\n"
          ]
        }
      ]
    },
    {
      "cell_type": "code",
      "source": [
        ""
      ],
      "metadata": {
        "id": "QTdOolpQVVPX"
      },
      "execution_count": null,
      "outputs": []
    }
  ]
}