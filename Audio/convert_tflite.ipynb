{
 "cells": [
  {
   "cell_type": "code",
   "execution_count": 9,
   "id": "884916c0",
   "metadata": {},
   "outputs": [],
   "source": [
    "import tensorflow as tf\n",
    "import os"
   ]
  },
  {
   "cell_type": "code",
   "execution_count": 18,
   "id": "c73f6474",
   "metadata": {},
   "outputs": [],
   "source": [
    "tflite_dir = './tflite/'+str(1)\n",
    "model_dir = './model1.h5'"
   ]
  },
  {
   "cell_type": "code",
   "execution_count": 25,
   "id": "13872413",
   "metadata": {},
   "outputs": [
    {
     "name": "stdout",
     "output_type": "stream",
     "text": [
      "Model: \"sequential\"\n",
      "_________________________________________________________________\n",
      " Layer (type)                Output Shape              Param #   \n",
      "=================================================================\n",
      " conv2d (Conv2D)             (None, 42, 11, 64)        640       \n",
      "                                                                 \n",
      " batch_normalization (BatchN  (None, 42, 11, 64)       256       \n",
      " ormalization)                                                   \n",
      "                                                                 \n",
      " max_pooling2d (MaxPooling2D  (None, 21, 6, 64)        0         \n",
      " )                                                               \n",
      "                                                                 \n",
      " conv2d_1 (Conv2D)           (None, 19, 4, 32)         18464     \n",
      "                                                                 \n",
      " batch_normalization_1 (Batc  (None, 19, 4, 32)        128       \n",
      " hNormalization)                                                 \n",
      "                                                                 \n",
      " max_pooling2d_1 (MaxPooling  (None, 10, 2, 32)        0         \n",
      " 2D)                                                             \n",
      "                                                                 \n",
      " conv2d_2 (Conv2D)           (None, 9, 1, 32)          4128      \n",
      "                                                                 \n",
      " batch_normalization_2 (Batc  (None, 9, 1, 32)         128       \n",
      " hNormalization)                                                 \n",
      "                                                                 \n",
      " max_pooling2d_2 (MaxPooling  (None, 5, 1, 32)         0         \n",
      " 2D)                                                             \n",
      "                                                                 \n",
      " flatten (Flatten)           (None, 160)               0         \n",
      "                                                                 \n",
      " dense (Dense)               (None, 64)                10304     \n",
      "                                                                 \n",
      " dense_1 (Dense)             (None, 4)                 260       \n",
      "                                                                 \n",
      "=================================================================\n",
      "Total params: 34,308\n",
      "Trainable params: 34,052\n",
      "Non-trainable params: 256\n",
      "_________________________________________________________________\n",
      "INFO:tensorflow:Assets written to: ./tflite/1\\assets\n"
     ]
    },
    {
     "name": "stderr",
     "output_type": "stream",
     "text": [
      "INFO:tensorflow:Assets written to: ./tflite/1\\assets\n",
      "WARNING:absl:Buffer deduplication procedure will be skipped when flatbuffer library is not properly loaded\n"
     ]
    }
   ],
   "source": [
    "model = tf.keras.models.load_model(model_dir)\n",
    "model.summary()\n",
    "\n",
    "if os.path.isdir(tflitedir) != True:\n",
    "    os.mkdir(tflitedir)\n",
    "    tf.saved_model.save(model, tflite_dir)\n",
    "\n",
    "\n",
    "converter = tf.lite.TFLiteConverter.from_saved_model(tflite_dir) \n",
    "model_converted = converter.convert()\n",
    "\n",
    "with open(tflite_dir+'/model.tflite', 'wb') as tflite:\n",
    "  tflite.write(model_converted)"
   ]
  },
  {
   "cell_type": "code",
   "execution_count": null,
   "id": "7f93626d",
   "metadata": {},
   "outputs": [],
   "source": []
  }
 ],
 "metadata": {
  "kernelspec": {
   "display_name": "Python 3 (ipykernel)",
   "language": "python",
   "name": "python3"
  },
  "language_info": {
   "codemirror_mode": {
    "name": "ipython",
    "version": 3
   },
   "file_extension": ".py",
   "mimetype": "text/x-python",
   "name": "python",
   "nbconvert_exporter": "python",
   "pygments_lexer": "ipython3",
   "version": "3.9.0"
  }
 },
 "nbformat": 4,
 "nbformat_minor": 5
}
