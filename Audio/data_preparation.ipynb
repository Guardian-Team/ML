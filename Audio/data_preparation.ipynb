{
  "nbformat": 4,
  "nbformat_minor": 0,
  "metadata": {
    "colab": {
      "name": "data-preparation.ipynb",
      "provenance": []
    },
    "kernelspec": {
      "name": "python3",
      "display_name": "Python 3"
    },
    "language_info": {
      "name": "python"
    }
  },
  "cells": [
    {
      "cell_type": "markdown",
      "source": [
        "## **Preparing Dataset**\n",
        "In this notebook we are extracting sound from the dataset using MFCC and put it in json file"
      ],
      "metadata": {
        "id": "_6Gsp2pfRMAe"
      }
    },
    {
      "cell_type": "code",
      "source": [
        "#import related packages\n",
        "import json\n",
        "import os\n",
        "import math\n",
        "import librosa"
      ],
      "metadata": {
        "id": "NYzqI6kBRU3W"
      },
      "execution_count": null,
      "outputs": []
    },
    {
      "cell_type": "code",
      "source": [
        "DATASET_PATH = \"/content/drive/MyDrive/BANGKIT_CAPSTONE/dataset/mixed\"\n",
        "JSON_PATH = \"/content/drive/MyDrive/BANGKIT_CAPSTONE/data.json\"\n",
        "panjang_sampel= 22050\n"
      ],
      "metadata": {
        "id": "2Dc3rIA-RsiQ"
      },
      "execution_count": null,
      "outputs": []
    },
    {
      "cell_type": "code",
      "source": [
        "def preprocess_dataset(dataset_path, json_path, num_mfcc=13, n_fft=2048, hop_length=512):\n",
        "\n",
        "    data = {\n",
        "        \"mapping\": [],\n",
        "        \"labels\": [],\n",
        "        \"MFCCs\": [],\n",
        "        \"files\": []\n",
        "    }\n",
        "    count=0\n",
        "\n",
        "    # loop through all sub-dirs\n",
        "    for i, (dirpath, dirnames, filenames) in enumerate(os.walk(dataset_path)):\n",
        "\n",
        "        # ensure we're at sub-folder level\n",
        "        if dirpath is not dataset_path:\n",
        "\n",
        "            # save label (i.e., sub-folder name) in the mapping\n",
        "            label = dirpath.split(\"/\")[-1]\n",
        "            data[\"mapping\"].append(label)\n",
        "            print(\"\\nProcessing: '{}'\".format(label))\n",
        "\n",
        "            # process all audio files in sub-dir and store MFCCs\n",
        "            for f in filenames:\n",
        "                file_path = os.path.join(dirpath, f)\n",
        "\n",
        "                # load audio file and slice it to ensure length consistency among different files\n",
        "                signal, sample_rate = librosa.load(file_path)\n",
        "\n",
        "                # drop audio files with less than pre-decided number of samples\n",
        "                if len(signal) >= panjang_sampel:\n",
        "\n",
        "                    # ensure consistency of the length of the signal\n",
        "                    signal = signal[:panjang_sampel]\n",
        "\n",
        "                    # extract MFCCs\n",
        "                    MFCCs = librosa.feature.mfcc(signal, sample_rate, n_mfcc=num_mfcc, n_fft=n_fft,\n",
        "                                                    hop_length=hop_length)\n",
        "\n",
        "                    # store data for analysed track\n",
        "                    count=count+1\n",
        "                    data[\"MFCCs\"].append(MFCCs.T.tolist())\n",
        "                    data[\"labels\"].append(i-1)\n",
        "                    data[\"files\"].append(file_path)\n",
        "                    print(str(count)+\" {}: {}\".format(file_path, i-1))\n",
        "\n",
        "    # save data in json file\n",
        "    with open(json_path, \"w\") as fp:\n",
        "        json.dump(data, fp, indent=4)\n"
      ],
      "metadata": {
        "id": "Xd6b6lObSCGR"
      },
      "execution_count": null,
      "outputs": []
    },
    {
      "cell_type": "code",
      "source": [
        "preprocess_dataset(DATASET_PATH, JSON_PATH)"
      ],
      "metadata": {
        "colab": {
          "base_uri": "https://localhost:8080/"
        },
        "id": "5F5VK4K3TUE-",
        "outputId": "844b567f-ae61-4add-8931-a4a53b9f800b"
      },
      "execution_count": null,
      "outputs": [
        {
          "output_type": "stream",
          "name": "stdout",
          "text": [
            "\n",
            "Processing: 'sexual'\n",
            "1 /content/drive/MyDrive/BANGKIT_CAPSTONE/dataset/mixed/sexual/00 - sexual - audio 18.wav: 0\n",
            "2 /content/drive/MyDrive/BANGKIT_CAPSTONE/dataset/mixed/sexual/00 - sexual - audio 114.wav: 0\n"
          ]
        },
        {
          "output_type": "stream",
          "name": "stderr",
          "text": [
            "/usr/local/lib/python3.7/dist-packages/librosa/core/audio.py:165: UserWarning: PySoundFile failed. Trying audioread instead.\n",
            "  warnings.warn(\"PySoundFile failed. Trying audioread instead.\")\n"
          ]
        },
        {
          "output_type": "stream",
          "name": "stdout",
          "text": [
            "3 /content/drive/MyDrive/BANGKIT_CAPSTONE/dataset/mixed/sexual/audio 89.ogg: 0\n"
          ]
        },
        {
          "output_type": "stream",
          "name": "stderr",
          "text": [
            "/usr/local/lib/python3.7/dist-packages/librosa/core/audio.py:165: UserWarning: PySoundFile failed. Trying audioread instead.\n",
            "  warnings.warn(\"PySoundFile failed. Trying audioread instead.\")\n"
          ]
        },
        {
          "output_type": "stream",
          "name": "stdout",
          "text": [
            "4 /content/drive/MyDrive/BANGKIT_CAPSTONE/dataset/mixed/sexual/audio 44.ogg: 0\n",
            "5 /content/drive/MyDrive/BANGKIT_CAPSTONE/dataset/mixed/sexual/00 - sexual - audio 112.wav: 0\n",
            "6 /content/drive/MyDrive/BANGKIT_CAPSTONE/dataset/mixed/sexual/00 - sexual - audio 97.wav: 0\n"
          ]
        },
        {
          "output_type": "stream",
          "name": "stderr",
          "text": [
            "/usr/local/lib/python3.7/dist-packages/librosa/core/audio.py:165: UserWarning: PySoundFile failed. Trying audioread instead.\n",
            "  warnings.warn(\"PySoundFile failed. Trying audioread instead.\")\n"
          ]
        },
        {
          "output_type": "stream",
          "name": "stdout",
          "text": [
            "7 /content/drive/MyDrive/BANGKIT_CAPSTONE/dataset/mixed/sexual/audio 120.ogg: 0\n",
            "8 /content/drive/MyDrive/BANGKIT_CAPSTONE/dataset/mixed/sexual/00 - sexual - audio 44.wav: 0\n",
            "9 /content/drive/MyDrive/BANGKIT_CAPSTONE/dataset/mixed/sexual/00 - sexual - audio 72.wav: 0\n"
          ]
        },
        {
          "output_type": "stream",
          "name": "stderr",
          "text": [
            "/usr/local/lib/python3.7/dist-packages/librosa/core/audio.py:165: UserWarning: PySoundFile failed. Trying audioread instead.\n",
            "  warnings.warn(\"PySoundFile failed. Trying audioread instead.\")\n"
          ]
        },
        {
          "output_type": "stream",
          "name": "stdout",
          "text": [
            "10 /content/drive/MyDrive/BANGKIT_CAPSTONE/dataset/mixed/sexual/audio 42.ogg: 0\n"
          ]
        },
        {
          "output_type": "stream",
          "name": "stderr",
          "text": [
            "/usr/local/lib/python3.7/dist-packages/librosa/core/audio.py:165: UserWarning: PySoundFile failed. Trying audioread instead.\n",
            "  warnings.warn(\"PySoundFile failed. Trying audioread instead.\")\n"
          ]
        },
        {
          "output_type": "stream",
          "name": "stdout",
          "text": [
            "11 /content/drive/MyDrive/BANGKIT_CAPSTONE/dataset/mixed/sexual/audio 114.ogg: 0\n",
            "12 /content/drive/MyDrive/BANGKIT_CAPSTONE/dataset/mixed/sexual/00 - sexual - audio 17.wav: 0\n",
            "13 /content/drive/MyDrive/BANGKIT_CAPSTONE/dataset/mixed/sexual/00 - sexual - audio 30.wav: 0\n"
          ]
        },
        {
          "output_type": "stream",
          "name": "stderr",
          "text": [
            "/usr/local/lib/python3.7/dist-packages/librosa/core/audio.py:165: UserWarning: PySoundFile failed. Trying audioread instead.\n",
            "  warnings.warn(\"PySoundFile failed. Trying audioread instead.\")\n"
          ]
        },
        {
          "output_type": "stream",
          "name": "stdout",
          "text": [
            "14 /content/drive/MyDrive/BANGKIT_CAPSTONE/dataset/mixed/sexual/audio 80.ogg: 0\n",
            "15 /content/drive/MyDrive/BANGKIT_CAPSTONE/dataset/mixed/sexual/00 - sexual - audio 110.wav: 0\n",
            "16 /content/drive/MyDrive/BANGKIT_CAPSTONE/dataset/mixed/sexual/00 - sexual - audio 98.wav: 0\n"
          ]
        },
        {
          "output_type": "stream",
          "name": "stderr",
          "text": [
            "/usr/local/lib/python3.7/dist-packages/librosa/core/audio.py:165: UserWarning: PySoundFile failed. Trying audioread instead.\n",
            "  warnings.warn(\"PySoundFile failed. Trying audioread instead.\")\n"
          ]
        },
        {
          "output_type": "stream",
          "name": "stdout",
          "text": [
            "17 /content/drive/MyDrive/BANGKIT_CAPSTONE/dataset/mixed/sexual/audio 1.ogg: 0\n"
          ]
        },
        {
          "output_type": "stream",
          "name": "stderr",
          "text": [
            "/usr/local/lib/python3.7/dist-packages/librosa/core/audio.py:165: UserWarning: PySoundFile failed. Trying audioread instead.\n",
            "  warnings.warn(\"PySoundFile failed. Trying audioread instead.\")\n"
          ]
        },
        {
          "output_type": "stream",
          "name": "stdout",
          "text": [
            "18 /content/drive/MyDrive/BANGKIT_CAPSTONE/dataset/mixed/sexual/audio 54.ogg: 0\n",
            "19 /content/drive/MyDrive/BANGKIT_CAPSTONE/dataset/mixed/sexual/00 - sexual - audio 120.wav: 0\n"
          ]
        },
        {
          "output_type": "stream",
          "name": "stderr",
          "text": [
            "/usr/local/lib/python3.7/dist-packages/librosa/core/audio.py:165: UserWarning: PySoundFile failed. Trying audioread instead.\n",
            "  warnings.warn(\"PySoundFile failed. Trying audioread instead.\")\n"
          ]
        },
        {
          "output_type": "stream",
          "name": "stdout",
          "text": [
            "20 /content/drive/MyDrive/BANGKIT_CAPSTONE/dataset/mixed/sexual/audio 70.ogg: 0\n",
            "21 /content/drive/MyDrive/BANGKIT_CAPSTONE/dataset/mixed/sexual/00 - sexual - audio 31.wav: 0\n"
          ]
        },
        {
          "output_type": "stream",
          "name": "stderr",
          "text": [
            "/usr/local/lib/python3.7/dist-packages/librosa/core/audio.py:165: UserWarning: PySoundFile failed. Trying audioread instead.\n",
            "  warnings.warn(\"PySoundFile failed. Trying audioread instead.\")\n"
          ]
        },
        {
          "output_type": "stream",
          "name": "stdout",
          "text": [
            "22 /content/drive/MyDrive/BANGKIT_CAPSTONE/dataset/mixed/sexual/audio 102.ogg: 0\n",
            "23 /content/drive/MyDrive/BANGKIT_CAPSTONE/dataset/mixed/sexual/00 - Dataset - WhatsApp Ptt 2021-05-22 at 21.18.45.wav: 0\n",
            "24 /content/drive/MyDrive/BANGKIT_CAPSTONE/dataset/mixed/sexual/00 - sexual - audio 115.wav: 0\n"
          ]
        },
        {
          "output_type": "stream",
          "name": "stderr",
          "text": [
            "/usr/local/lib/python3.7/dist-packages/librosa/core/audio.py:165: UserWarning: PySoundFile failed. Trying audioread instead.\n",
            "  warnings.warn(\"PySoundFile failed. Trying audioread instead.\")\n"
          ]
        },
        {
          "output_type": "stream",
          "name": "stdout",
          "text": [
            "25 /content/drive/MyDrive/BANGKIT_CAPSTONE/dataset/mixed/sexual/audio 58.ogg: 0\n",
            "26 /content/drive/MyDrive/BANGKIT_CAPSTONE/dataset/mixed/sexual/00 - Dataset - WhatsApp Ptt 2021-05-22 at 21.19.06.wav: 0\n",
            "27 /content/drive/MyDrive/BANGKIT_CAPSTONE/dataset/mixed/sexual/00 - sexual - audio 54.wav: 0\n",
            "28 /content/drive/MyDrive/BANGKIT_CAPSTONE/dataset/mixed/sexual/00 - sexual - audio 1.wav: 0\n",
            "29 /content/drive/MyDrive/BANGKIT_CAPSTONE/dataset/mixed/sexual/00 - sexual - audio 40.wav: 0\n",
            "30 /content/drive/MyDrive/BANGKIT_CAPSTONE/dataset/mixed/sexual/00 - sexual - audio 7.wav: 0\n"
          ]
        },
        {
          "output_type": "stream",
          "name": "stderr",
          "text": [
            "/usr/local/lib/python3.7/dist-packages/librosa/core/audio.py:165: UserWarning: PySoundFile failed. Trying audioread instead.\n",
            "  warnings.warn(\"PySoundFile failed. Trying audioread instead.\")\n"
          ]
        },
        {
          "output_type": "stream",
          "name": "stdout",
          "text": [
            "31 /content/drive/MyDrive/BANGKIT_CAPSTONE/dataset/mixed/sexual/audio 62.ogg: 0\n"
          ]
        },
        {
          "output_type": "stream",
          "name": "stderr",
          "text": [
            "/usr/local/lib/python3.7/dist-packages/librosa/core/audio.py:165: UserWarning: PySoundFile failed. Trying audioread instead.\n",
            "  warnings.warn(\"PySoundFile failed. Trying audioread instead.\")\n"
          ]
        },
        {
          "output_type": "stream",
          "name": "stdout",
          "text": [
            "32 /content/drive/MyDrive/BANGKIT_CAPSTONE/dataset/mixed/sexual/audio 14.ogg: 0\n",
            "33 /content/drive/MyDrive/BANGKIT_CAPSTONE/dataset/mixed/sexual/00 - sexual - audio 89.wav: 0\n",
            "34 /content/drive/MyDrive/BANGKIT_CAPSTONE/dataset/mixed/sexual/00 - Dataset - voice 433046.wav: 0\n",
            "35 /content/drive/MyDrive/BANGKIT_CAPSTONE/dataset/mixed/sexual/00 - sexual - audio 116.wav: 0\n"
          ]
        },
        {
          "output_type": "stream",
          "name": "stderr",
          "text": [
            "/usr/local/lib/python3.7/dist-packages/librosa/core/audio.py:165: UserWarning: PySoundFile failed. Trying audioread instead.\n",
            "  warnings.warn(\"PySoundFile failed. Trying audioread instead.\")\n"
          ]
        },
        {
          "output_type": "stream",
          "name": "stdout",
          "text": [
            "36 /content/drive/MyDrive/BANGKIT_CAPSTONE/dataset/mixed/sexual/audio 40.ogg: 0\n"
          ]
        },
        {
          "output_type": "stream",
          "name": "stderr",
          "text": [
            "/usr/local/lib/python3.7/dist-packages/librosa/core/audio.py:165: UserWarning: PySoundFile failed. Trying audioread instead.\n",
            "  warnings.warn(\"PySoundFile failed. Trying audioread instead.\")\n"
          ]
        },
        {
          "output_type": "stream",
          "name": "stdout",
          "text": [
            "37 /content/drive/MyDrive/BANGKIT_CAPSTONE/dataset/mixed/sexual/audio 36.ogg: 0\n",
            "38 /content/drive/MyDrive/BANGKIT_CAPSTONE/dataset/mixed/sexual/00 - sexual - audio 55.wav: 0\n"
          ]
        },
        {
          "output_type": "stream",
          "name": "stderr",
          "text": [
            "/usr/local/lib/python3.7/dist-packages/librosa/core/audio.py:165: UserWarning: PySoundFile failed. Trying audioread instead.\n",
            "  warnings.warn(\"PySoundFile failed. Trying audioread instead.\")\n"
          ]
        },
        {
          "output_type": "stream",
          "name": "stdout",
          "text": [
            "39 /content/drive/MyDrive/BANGKIT_CAPSTONE/dataset/mixed/sexual/audio 22.ogg: 0\n",
            "40 /content/drive/MyDrive/BANGKIT_CAPSTONE/dataset/mixed/sexual/00 - sexual - audio 49.wav: 0\n",
            "41 /content/drive/MyDrive/BANGKIT_CAPSTONE/dataset/mixed/sexual/00 - Dataset - WhatsApp Ptt 2021-05-22 at 21.19.36.wav: 0\n"
          ]
        },
        {
          "output_type": "stream",
          "name": "stderr",
          "text": [
            "/usr/local/lib/python3.7/dist-packages/librosa/core/audio.py:165: UserWarning: PySoundFile failed. Trying audioread instead.\n",
            "  warnings.warn(\"PySoundFile failed. Trying audioread instead.\")\n"
          ]
        },
        {
          "output_type": "stream",
          "name": "stdout",
          "text": [
            "42 /content/drive/MyDrive/BANGKIT_CAPSTONE/dataset/mixed/sexual/audio 94.ogg: 0\n",
            "43 /content/drive/MyDrive/BANGKIT_CAPSTONE/dataset/mixed/sexual/00 - Dataset - voice 433084.wav: 0\n",
            "44 /content/drive/MyDrive/BANGKIT_CAPSTONE/dataset/mixed/sexual/00 - sexual - audio 12.wav: 0\n"
          ]
        },
        {
          "output_type": "stream",
          "name": "stderr",
          "text": [
            "/usr/local/lib/python3.7/dist-packages/librosa/core/audio.py:165: UserWarning: PySoundFile failed. Trying audioread instead.\n",
            "  warnings.warn(\"PySoundFile failed. Trying audioread instead.\")\n"
          ]
        },
        {
          "output_type": "stream",
          "name": "stdout",
          "text": [
            "45 /content/drive/MyDrive/BANGKIT_CAPSTONE/dataset/mixed/sexual/audio 116.ogg: 0\n"
          ]
        },
        {
          "output_type": "stream",
          "name": "stderr",
          "text": [
            "/usr/local/lib/python3.7/dist-packages/librosa/core/audio.py:165: UserWarning: PySoundFile failed. Trying audioread instead.\n",
            "  warnings.warn(\"PySoundFile failed. Trying audioread instead.\")\n"
          ]
        },
        {
          "output_type": "stream",
          "name": "stdout",
          "text": [
            "46 /content/drive/MyDrive/BANGKIT_CAPSTONE/dataset/mixed/sexual/audio 47.ogg: 0\n",
            "47 /content/drive/MyDrive/BANGKIT_CAPSTONE/dataset/mixed/sexual/00 - sexual - audio 22.wav: 0\n",
            "48 /content/drive/MyDrive/BANGKIT_CAPSTONE/dataset/mixed/sexual/00 - sexual - audio 70.wav: 0\n"
          ]
        },
        {
          "output_type": "stream",
          "name": "stderr",
          "text": [
            "/usr/local/lib/python3.7/dist-packages/librosa/core/audio.py:165: UserWarning: PySoundFile failed. Trying audioread instead.\n",
            "  warnings.warn(\"PySoundFile failed. Trying audioread instead.\")\n"
          ]
        },
        {
          "output_type": "stream",
          "name": "stdout",
          "text": [
            "49 /content/drive/MyDrive/BANGKIT_CAPSTONE/dataset/mixed/sexual/audio 112.ogg: 0\n",
            "50 /content/drive/MyDrive/BANGKIT_CAPSTONE/dataset/mixed/sexual/00 - sexual - audio 87.wav: 0\n",
            "51 /content/drive/MyDrive/BANGKIT_CAPSTONE/dataset/mixed/sexual/00 - sexual - audio 36.wav: 0\n",
            "52 /content/drive/MyDrive/BANGKIT_CAPSTONE/dataset/mixed/sexual/00 - sexual - audio 96.wav: 0\n"
          ]
        },
        {
          "output_type": "stream",
          "name": "stderr",
          "text": [
            "/usr/local/lib/python3.7/dist-packages/librosa/core/audio.py:165: UserWarning: PySoundFile failed. Trying audioread instead.\n",
            "  warnings.warn(\"PySoundFile failed. Trying audioread instead.\")\n"
          ]
        },
        {
          "output_type": "stream",
          "name": "stdout",
          "text": [
            "53 /content/drive/MyDrive/BANGKIT_CAPSTONE/dataset/mixed/sexual/audio 82.ogg: 0\n",
            "54 /content/drive/MyDrive/BANGKIT_CAPSTONE/dataset/mixed/sexual/00 - Dataset - Amanda1.wav: 0\n",
            "55 /content/drive/MyDrive/BANGKIT_CAPSTONE/dataset/mixed/sexual/00 - sexual - audio 16.wav: 0\n"
          ]
        },
        {
          "output_type": "stream",
          "name": "stderr",
          "text": [
            "/usr/local/lib/python3.7/dist-packages/librosa/core/audio.py:165: UserWarning: PySoundFile failed. Trying audioread instead.\n",
            "  warnings.warn(\"PySoundFile failed. Trying audioread instead.\")\n"
          ]
        },
        {
          "output_type": "stream",
          "name": "stdout",
          "text": [
            "56 /content/drive/MyDrive/BANGKIT_CAPSTONE/dataset/mixed/sexual/audio 55.ogg: 0\n",
            "57 /content/drive/MyDrive/BANGKIT_CAPSTONE/dataset/mixed/sexual/00 - sexual - audio 94.wav: 0\n"
          ]
        },
        {
          "output_type": "stream",
          "name": "stderr",
          "text": [
            "/usr/local/lib/python3.7/dist-packages/librosa/core/audio.py:165: UserWarning: PySoundFile failed. Trying audioread instead.\n",
            "  warnings.warn(\"PySoundFile failed. Trying audioread instead.\")\n"
          ]
        },
        {
          "output_type": "stream",
          "name": "stdout",
          "text": [
            "58 /content/drive/MyDrive/BANGKIT_CAPSTONE/dataset/mixed/sexual/audio 49.ogg: 0\n"
          ]
        },
        {
          "output_type": "stream",
          "name": "stderr",
          "text": [
            "/usr/local/lib/python3.7/dist-packages/librosa/core/audio.py:165: UserWarning: PySoundFile failed. Trying audioread instead.\n",
            "  warnings.warn(\"PySoundFile failed. Trying audioread instead.\")\n"
          ]
        },
        {
          "output_type": "stream",
          "name": "stdout",
          "text": [
            "59 /content/drive/MyDrive/BANGKIT_CAPSTONE/dataset/mixed/sexual/audio 98.ogg: 0\n",
            "60 /content/drive/MyDrive/BANGKIT_CAPSTONE/dataset/mixed/sexual/00 - sexual - audio 62.wav: 0\n"
          ]
        },
        {
          "output_type": "stream",
          "name": "stderr",
          "text": [
            "/usr/local/lib/python3.7/dist-packages/librosa/core/audio.py:165: UserWarning: PySoundFile failed. Trying audioread instead.\n",
            "  warnings.warn(\"PySoundFile failed. Trying audioread instead.\")\n"
          ]
        },
        {
          "output_type": "stream",
          "name": "stdout",
          "text": [
            "61 /content/drive/MyDrive/BANGKIT_CAPSTONE/dataset/mixed/sexual/audio 7.ogg: 0\n",
            "62 /content/drive/MyDrive/BANGKIT_CAPSTONE/dataset/mixed/sexual/00 - sexual - audio 80.wav: 0\n",
            "63 /content/drive/MyDrive/BANGKIT_CAPSTONE/dataset/mixed/sexual/00 - Dataset - voice 433026.wav: 0\n"
          ]
        },
        {
          "output_type": "stream",
          "name": "stderr",
          "text": [
            "/usr/local/lib/python3.7/dist-packages/librosa/core/audio.py:165: UserWarning: PySoundFile failed. Trying audioread instead.\n",
            "  warnings.warn(\"PySoundFile failed. Trying audioread instead.\")\n"
          ]
        },
        {
          "output_type": "stream",
          "name": "stdout",
          "text": [
            "64 /content/drive/MyDrive/BANGKIT_CAPSTONE/dataset/mixed/sexual/audio 11.ogg: 0\n"
          ]
        },
        {
          "output_type": "stream",
          "name": "stderr",
          "text": [
            "/usr/local/lib/python3.7/dist-packages/librosa/core/audio.py:165: UserWarning: PySoundFile failed. Trying audioread instead.\n",
            "  warnings.warn(\"PySoundFile failed. Trying audioread instead.\")\n"
          ]
        },
        {
          "output_type": "stream",
          "name": "stdout",
          "text": [
            "65 /content/drive/MyDrive/BANGKIT_CAPSTONE/dataset/mixed/sexual/audio 31.ogg: 0\n",
            "66 /content/drive/MyDrive/BANGKIT_CAPSTONE/dataset/mixed/sexual/00 - sexual - audio 58.wav: 0\n"
          ]
        },
        {
          "output_type": "stream",
          "name": "stderr",
          "text": [
            "/usr/local/lib/python3.7/dist-packages/librosa/core/audio.py:165: UserWarning: PySoundFile failed. Trying audioread instead.\n",
            "  warnings.warn(\"PySoundFile failed. Trying audioread instead.\")\n"
          ]
        },
        {
          "output_type": "stream",
          "name": "stdout",
          "text": [
            "67 /content/drive/MyDrive/BANGKIT_CAPSTONE/dataset/mixed/sexual/audio 110.ogg: 0\n"
          ]
        },
        {
          "output_type": "stream",
          "name": "stderr",
          "text": [
            "/usr/local/lib/python3.7/dist-packages/librosa/core/audio.py:165: UserWarning: PySoundFile failed. Trying audioread instead.\n",
            "  warnings.warn(\"PySoundFile failed. Trying audioread instead.\")\n"
          ]
        },
        {
          "output_type": "stream",
          "name": "stdout",
          "text": [
            "68 /content/drive/MyDrive/BANGKIT_CAPSTONE/dataset/mixed/sexual/audio 17.ogg: 0\n",
            "69 /content/drive/MyDrive/BANGKIT_CAPSTONE/dataset/mixed/sexual/00 - sexual - audio 14.wav: 0\n"
          ]
        },
        {
          "output_type": "stream",
          "name": "stderr",
          "text": [
            "/usr/local/lib/python3.7/dist-packages/librosa/core/audio.py:165: UserWarning: PySoundFile failed. Trying audioread instead.\n",
            "  warnings.warn(\"PySoundFile failed. Trying audioread instead.\")\n"
          ]
        },
        {
          "output_type": "stream",
          "name": "stdout",
          "text": [
            "70 /content/drive/MyDrive/BANGKIT_CAPSTONE/dataset/mixed/sexual/audio 115.ogg: 0\n",
            "71 /content/drive/MyDrive/BANGKIT_CAPSTONE/dataset/mixed/sexual/00 - sexual - audio 82.wav: 0\n"
          ]
        },
        {
          "output_type": "stream",
          "name": "stderr",
          "text": [
            "/usr/local/lib/python3.7/dist-packages/librosa/core/audio.py:165: UserWarning: PySoundFile failed. Trying audioread instead.\n",
            "  warnings.warn(\"PySoundFile failed. Trying audioread instead.\")\n"
          ]
        },
        {
          "output_type": "stream",
          "name": "stdout",
          "text": [
            "72 /content/drive/MyDrive/BANGKIT_CAPSTONE/dataset/mixed/sexual/audio 12.ogg: 0\n"
          ]
        },
        {
          "output_type": "stream",
          "name": "stderr",
          "text": [
            "/usr/local/lib/python3.7/dist-packages/librosa/core/audio.py:165: UserWarning: PySoundFile failed. Trying audioread instead.\n",
            "  warnings.warn(\"PySoundFile failed. Trying audioread instead.\")\n"
          ]
        },
        {
          "output_type": "stream",
          "name": "stdout",
          "text": [
            "73 /content/drive/MyDrive/BANGKIT_CAPSTONE/dataset/mixed/sexual/audio 87.ogg: 0\n",
            "74 /content/drive/MyDrive/BANGKIT_CAPSTONE/dataset/mixed/sexual/00 - sexual - audio 83.wav: 0\n",
            "75 /content/drive/MyDrive/BANGKIT_CAPSTONE/dataset/mixed/sexual/00 - Dataset - WhatsApp Ptt 2021-05-22 at 21.18.20.wav: 0\n"
          ]
        },
        {
          "output_type": "stream",
          "name": "stderr",
          "text": [
            "/usr/local/lib/python3.7/dist-packages/librosa/core/audio.py:165: UserWarning: PySoundFile failed. Trying audioread instead.\n",
            "  warnings.warn(\"PySoundFile failed. Trying audioread instead.\")\n"
          ]
        },
        {
          "output_type": "stream",
          "name": "stdout",
          "text": [
            "76 /content/drive/MyDrive/BANGKIT_CAPSTONE/dataset/mixed/sexual/audio 16.ogg: 0\n",
            "77 /content/drive/MyDrive/BANGKIT_CAPSTONE/dataset/mixed/sexual/00 - sexual - audio 42.wav: 0\n",
            "78 /content/drive/MyDrive/BANGKIT_CAPSTONE/dataset/mixed/sexual/00 - sexual - audio 95.wav: 0\n"
          ]
        },
        {
          "output_type": "stream",
          "name": "stderr",
          "text": [
            "/usr/local/lib/python3.7/dist-packages/librosa/core/audio.py:165: UserWarning: PySoundFile failed. Trying audioread instead.\n",
            "  warnings.warn(\"PySoundFile failed. Trying audioread instead.\")\n"
          ]
        },
        {
          "output_type": "stream",
          "name": "stdout",
          "text": [
            "79 /content/drive/MyDrive/BANGKIT_CAPSTONE/dataset/mixed/sexual/audio 30.ogg: 0\n",
            "80 /content/drive/MyDrive/BANGKIT_CAPSTONE/dataset/mixed/sexual/00 - Dataset - WhatsApp Ptt 2021-05-22 at 21.19.25.wav: 0\n"
          ]
        },
        {
          "output_type": "stream",
          "name": "stderr",
          "text": [
            "/usr/local/lib/python3.7/dist-packages/librosa/core/audio.py:165: UserWarning: PySoundFile failed. Trying audioread instead.\n",
            "  warnings.warn(\"PySoundFile failed. Trying audioread instead.\")\n"
          ]
        },
        {
          "output_type": "stream",
          "name": "stdout",
          "text": [
            "81 /content/drive/MyDrive/BANGKIT_CAPSTONE/dataset/mixed/sexual/audio 18.ogg: 0\n"
          ]
        },
        {
          "output_type": "stream",
          "name": "stderr",
          "text": [
            "/usr/local/lib/python3.7/dist-packages/librosa/core/audio.py:165: UserWarning: PySoundFile failed. Trying audioread instead.\n",
            "  warnings.warn(\"PySoundFile failed. Trying audioread instead.\")\n"
          ]
        },
        {
          "output_type": "stream",
          "name": "stdout",
          "text": [
            "82 /content/drive/MyDrive/BANGKIT_CAPSTONE/dataset/mixed/sexual/audio 83.ogg: 0\n"
          ]
        },
        {
          "output_type": "stream",
          "name": "stderr",
          "text": [
            "/usr/local/lib/python3.7/dist-packages/librosa/core/audio.py:165: UserWarning: PySoundFile failed. Trying audioread instead.\n",
            "  warnings.warn(\"PySoundFile failed. Trying audioread instead.\")\n"
          ]
        },
        {
          "output_type": "stream",
          "name": "stdout",
          "text": [
            "83 /content/drive/MyDrive/BANGKIT_CAPSTONE/dataset/mixed/sexual/audio 72.ogg: 0\n"
          ]
        },
        {
          "output_type": "stream",
          "name": "stderr",
          "text": [
            "/usr/local/lib/python3.7/dist-packages/librosa/core/audio.py:165: UserWarning: PySoundFile failed. Trying audioread instead.\n",
            "  warnings.warn(\"PySoundFile failed. Trying audioread instead.\")\n"
          ]
        },
        {
          "output_type": "stream",
          "name": "stdout",
          "text": [
            "84 /content/drive/MyDrive/BANGKIT_CAPSTONE/dataset/mixed/sexual/audio 95.ogg: 0\n",
            "85 /content/drive/MyDrive/BANGKIT_CAPSTONE/dataset/mixed/sexual/00 - sexual - audio 47.wav: 0\n",
            "86 /content/drive/MyDrive/BANGKIT_CAPSTONE/dataset/mixed/sexual/00 - sexual - audio 102.wav: 0\n"
          ]
        },
        {
          "output_type": "stream",
          "name": "stderr",
          "text": [
            "/usr/local/lib/python3.7/dist-packages/librosa/core/audio.py:165: UserWarning: PySoundFile failed. Trying audioread instead.\n",
            "  warnings.warn(\"PySoundFile failed. Trying audioread instead.\")\n"
          ]
        },
        {
          "output_type": "stream",
          "name": "stdout",
          "text": [
            "87 /content/drive/MyDrive/BANGKIT_CAPSTONE/dataset/mixed/sexual/audio 96.ogg: 0\n"
          ]
        },
        {
          "output_type": "stream",
          "name": "stderr",
          "text": [
            "/usr/local/lib/python3.7/dist-packages/librosa/core/audio.py:165: UserWarning: PySoundFile failed. Trying audioread instead.\n",
            "  warnings.warn(\"PySoundFile failed. Trying audioread instead.\")\n"
          ]
        },
        {
          "output_type": "stream",
          "name": "stdout",
          "text": [
            "88 /content/drive/MyDrive/BANGKIT_CAPSTONE/dataset/mixed/sexual/audio 97.ogg: 0\n",
            "89 /content/drive/MyDrive/BANGKIT_CAPSTONE/dataset/mixed/sexual/00 - sexual - audio 11.wav: 0\n",
            "\n",
            "Processing: 'stalking'\n"
          ]
        },
        {
          "output_type": "stream",
          "name": "stderr",
          "text": [
            "/usr/local/lib/python3.7/dist-packages/librosa/core/audio.py:165: UserWarning: PySoundFile failed. Trying audioread instead.\n",
            "  warnings.warn(\"PySoundFile failed. Trying audioread instead.\")\n"
          ]
        },
        {
          "output_type": "stream",
          "name": "stdout",
          "text": [
            "90 /content/drive/MyDrive/BANGKIT_CAPSTONE/dataset/mixed/stalking/audio 81.ogg: 1\n",
            "91 /content/drive/MyDrive/BANGKIT_CAPSTONE/dataset/mixed/stalking/00 - stalking - audio 100.wav: 1\n",
            "92 /content/drive/MyDrive/BANGKIT_CAPSTONE/dataset/mixed/stalking/00 - stalking - audio 34.wav: 1\n",
            "93 /content/drive/MyDrive/BANGKIT_CAPSTONE/dataset/mixed/stalking/00 - stalking - audio 90.wav: 1\n",
            "94 /content/drive/MyDrive/BANGKIT_CAPSTONE/dataset/mixed/stalking/00 - stalking - audio 86.wav: 1\n",
            "95 /content/drive/MyDrive/BANGKIT_CAPSTONE/dataset/mixed/stalking/00 - stalking - audio 119.wav: 1\n",
            "96 /content/drive/MyDrive/BANGKIT_CAPSTONE/dataset/mixed/stalking/00 - stalking - audio 114.wav: 1\n",
            "97 /content/drive/MyDrive/BANGKIT_CAPSTONE/dataset/mixed/stalking/00 - stalking - audio 12.wav: 1\n",
            "98 /content/drive/MyDrive/BANGKIT_CAPSTONE/dataset/mixed/stalking/00 - stalking - audio 88.wav: 1\n",
            "99 /content/drive/MyDrive/BANGKIT_CAPSTONE/dataset/mixed/stalking/00 - Dataset - voice 433027.wav: 1\n"
          ]
        },
        {
          "output_type": "stream",
          "name": "stderr",
          "text": [
            "/usr/local/lib/python3.7/dist-packages/librosa/core/audio.py:165: UserWarning: PySoundFile failed. Trying audioread instead.\n",
            "  warnings.warn(\"PySoundFile failed. Trying audioread instead.\")\n"
          ]
        },
        {
          "output_type": "stream",
          "name": "stdout",
          "text": [
            "100 /content/drive/MyDrive/BANGKIT_CAPSTONE/dataset/mixed/stalking/audio 20.ogg: 1\n",
            "101 /content/drive/MyDrive/BANGKIT_CAPSTONE/dataset/mixed/stalking/00 - Dataset - WhatsApp Audio 2021-05-23 at 07.43.49.wav: 1\n",
            "102 /content/drive/MyDrive/BANGKIT_CAPSTONE/dataset/mixed/stalking/00 - stalking - audio 93.wav: 1\n",
            "103 /content/drive/MyDrive/BANGKIT_CAPSTONE/dataset/mixed/stalking/00 - stalking - audio 8.wav: 1\n",
            "104 /content/drive/MyDrive/BANGKIT_CAPSTONE/dataset/mixed/stalking/00 - stalking - audio 57.wav: 1\n"
          ]
        },
        {
          "output_type": "stream",
          "name": "stderr",
          "text": [
            "/usr/local/lib/python3.7/dist-packages/librosa/core/audio.py:165: UserWarning: PySoundFile failed. Trying audioread instead.\n",
            "  warnings.warn(\"PySoundFile failed. Trying audioread instead.\")\n"
          ]
        },
        {
          "output_type": "stream",
          "name": "stdout",
          "text": [
            "105 /content/drive/MyDrive/BANGKIT_CAPSTONE/dataset/mixed/stalking/audio 60.ogg: 1\n"
          ]
        },
        {
          "output_type": "stream",
          "name": "stderr",
          "text": [
            "/usr/local/lib/python3.7/dist-packages/librosa/core/audio.py:165: UserWarning: PySoundFile failed. Trying audioread instead.\n",
            "  warnings.warn(\"PySoundFile failed. Trying audioread instead.\")\n"
          ]
        },
        {
          "output_type": "stream",
          "name": "stdout",
          "text": [
            "106 /content/drive/MyDrive/BANGKIT_CAPSTONE/dataset/mixed/stalking/audio 88.ogg: 1\n",
            "107 /content/drive/MyDrive/BANGKIT_CAPSTONE/dataset/mixed/stalking/00 - stalking - audio 9.wav: 1\n",
            "108 /content/drive/MyDrive/BANGKIT_CAPSTONE/dataset/mixed/stalking/00 - stalking - audio 43.wav: 1\n",
            "109 /content/drive/MyDrive/BANGKIT_CAPSTONE/dataset/mixed/stalking/00 - stalking - audio 41.wav: 1\n"
          ]
        },
        {
          "output_type": "stream",
          "name": "stderr",
          "text": [
            "/usr/local/lib/python3.7/dist-packages/librosa/core/audio.py:165: UserWarning: PySoundFile failed. Trying audioread instead.\n",
            "  warnings.warn(\"PySoundFile failed. Trying audioread instead.\")\n"
          ]
        },
        {
          "output_type": "stream",
          "name": "stdout",
          "text": [
            "110 /content/drive/MyDrive/BANGKIT_CAPSTONE/dataset/mixed/stalking/audio 46.ogg: 1\n"
          ]
        },
        {
          "output_type": "stream",
          "name": "stderr",
          "text": [
            "/usr/local/lib/python3.7/dist-packages/librosa/core/audio.py:165: UserWarning: PySoundFile failed. Trying audioread instead.\n",
            "  warnings.warn(\"PySoundFile failed. Trying audioread instead.\")\n"
          ]
        },
        {
          "output_type": "stream",
          "name": "stdout",
          "text": [
            "111 /content/drive/MyDrive/BANGKIT_CAPSTONE/dataset/mixed/stalking/audio 100.ogg: 1\n"
          ]
        },
        {
          "output_type": "stream",
          "name": "stderr",
          "text": [
            "/usr/local/lib/python3.7/dist-packages/librosa/core/audio.py:165: UserWarning: PySoundFile failed. Trying audioread instead.\n",
            "  warnings.warn(\"PySoundFile failed. Trying audioread instead.\")\n"
          ]
        },
        {
          "output_type": "stream",
          "name": "stdout",
          "text": [
            "112 /content/drive/MyDrive/BANGKIT_CAPSTONE/dataset/mixed/stalking/audio 97.ogg: 1\n",
            "113 /content/drive/MyDrive/BANGKIT_CAPSTONE/dataset/mixed/stalking/00 - stalking - audio 74.wav: 1\n"
          ]
        },
        {
          "output_type": "stream",
          "name": "stderr",
          "text": [
            "/usr/local/lib/python3.7/dist-packages/librosa/core/audio.py:165: UserWarning: PySoundFile failed. Trying audioread instead.\n",
            "  warnings.warn(\"PySoundFile failed. Trying audioread instead.\")\n"
          ]
        },
        {
          "output_type": "stream",
          "name": "stdout",
          "text": [
            "114 /content/drive/MyDrive/BANGKIT_CAPSTONE/dataset/mixed/stalking/audio 12.ogg: 1\n"
          ]
        },
        {
          "output_type": "stream",
          "name": "stderr",
          "text": [
            "/usr/local/lib/python3.7/dist-packages/librosa/core/audio.py:165: UserWarning: PySoundFile failed. Trying audioread instead.\n",
            "  warnings.warn(\"PySoundFile failed. Trying audioread instead.\")\n"
          ]
        },
        {
          "output_type": "stream",
          "name": "stdout",
          "text": [
            "115 /content/drive/MyDrive/BANGKIT_CAPSTONE/dataset/mixed/stalking/audio 48.ogg: 1\n",
            "116 /content/drive/MyDrive/BANGKIT_CAPSTONE/dataset/mixed/stalking/00 - stalking - audio 83.wav: 1\n",
            "117 /content/drive/MyDrive/BANGKIT_CAPSTONE/dataset/mixed/stalking/00 - Dataset - voice 433083.wav: 1\n",
            "118 /content/drive/MyDrive/BANGKIT_CAPSTONE/dataset/mixed/stalking/00 - Dataset - voice 433080.wav: 1\n",
            "119 /content/drive/MyDrive/BANGKIT_CAPSTONE/dataset/mixed/stalking/00 - Dataset - voice 433086.wav: 1\n"
          ]
        },
        {
          "output_type": "stream",
          "name": "stderr",
          "text": [
            "/usr/local/lib/python3.7/dist-packages/librosa/core/audio.py:165: UserWarning: PySoundFile failed. Trying audioread instead.\n",
            "  warnings.warn(\"PySoundFile failed. Trying audioread instead.\")\n"
          ]
        },
        {
          "output_type": "stream",
          "name": "stdout",
          "text": [
            "120 /content/drive/MyDrive/BANGKIT_CAPSTONE/dataset/mixed/stalking/audio 93.ogg: 1\n",
            "121 /content/drive/MyDrive/BANGKIT_CAPSTONE/dataset/mixed/stalking/00 - stalking - audio 4.wav: 1\n",
            "122 /content/drive/MyDrive/BANGKIT_CAPSTONE/dataset/mixed/stalking/00 - stalking - audio 39.wav: 1\n"
          ]
        },
        {
          "output_type": "stream",
          "name": "stderr",
          "text": [
            "/usr/local/lib/python3.7/dist-packages/librosa/core/audio.py:165: UserWarning: PySoundFile failed. Trying audioread instead.\n",
            "  warnings.warn(\"PySoundFile failed. Trying audioread instead.\")\n"
          ]
        },
        {
          "output_type": "stream",
          "name": "stdout",
          "text": [
            "123 /content/drive/MyDrive/BANGKIT_CAPSTONE/dataset/mixed/stalking/audio 79.ogg: 1\n"
          ]
        },
        {
          "output_type": "stream",
          "name": "stderr",
          "text": [
            "/usr/local/lib/python3.7/dist-packages/librosa/core/audio.py:165: UserWarning: PySoundFile failed. Trying audioread instead.\n",
            "  warnings.warn(\"PySoundFile failed. Trying audioread instead.\")\n"
          ]
        },
        {
          "output_type": "stream",
          "name": "stdout",
          "text": [
            "124 /content/drive/MyDrive/BANGKIT_CAPSTONE/dataset/mixed/stalking/audio 34.ogg: 1\n",
            "125 /content/drive/MyDrive/BANGKIT_CAPSTONE/dataset/mixed/stalking/00 - Dataset - voice 433078.wav: 1\n"
          ]
        },
        {
          "output_type": "stream",
          "name": "stderr",
          "text": [
            "/usr/local/lib/python3.7/dist-packages/librosa/core/audio.py:165: UserWarning: PySoundFile failed. Trying audioread instead.\n",
            "  warnings.warn(\"PySoundFile failed. Trying audioread instead.\")\n"
          ]
        },
        {
          "output_type": "stream",
          "name": "stdout",
          "text": [
            "126 /content/drive/MyDrive/BANGKIT_CAPSTONE/dataset/mixed/stalking/audio 74.ogg: 1\n"
          ]
        },
        {
          "output_type": "stream",
          "name": "stderr",
          "text": [
            "/usr/local/lib/python3.7/dist-packages/librosa/core/audio.py:165: UserWarning: PySoundFile failed. Trying audioread instead.\n",
            "  warnings.warn(\"PySoundFile failed. Trying audioread instead.\")\n"
          ]
        },
        {
          "output_type": "stream",
          "name": "stdout",
          "text": [
            "127 /content/drive/MyDrive/BANGKIT_CAPSTONE/dataset/mixed/stalking/audio 43.ogg: 1\n",
            "128 /content/drive/MyDrive/BANGKIT_CAPSTONE/dataset/mixed/stalking/00 - Dataset - WhatsApp Audio 2021-05-23 at 22.35.53.wav: 1\n",
            "129 /content/drive/MyDrive/BANGKIT_CAPSTONE/dataset/mixed/stalking/00 - stalking - audio 81.wav: 1\n"
          ]
        },
        {
          "output_type": "stream",
          "name": "stderr",
          "text": [
            "/usr/local/lib/python3.7/dist-packages/librosa/core/audio.py:165: UserWarning: PySoundFile failed. Trying audioread instead.\n",
            "  warnings.warn(\"PySoundFile failed. Trying audioread instead.\")\n"
          ]
        },
        {
          "output_type": "stream",
          "name": "stdout",
          "text": [
            "130 /content/drive/MyDrive/BANGKIT_CAPSTONE/dataset/mixed/stalking/audio 53.ogg: 1\n"
          ]
        },
        {
          "output_type": "stream",
          "name": "stderr",
          "text": [
            "/usr/local/lib/python3.7/dist-packages/librosa/core/audio.py:165: UserWarning: PySoundFile failed. Trying audioread instead.\n",
            "  warnings.warn(\"PySoundFile failed. Trying audioread instead.\")\n"
          ]
        },
        {
          "output_type": "stream",
          "name": "stdout",
          "text": [
            "131 /content/drive/MyDrive/BANGKIT_CAPSTONE/dataset/mixed/stalking/audio 10.ogg: 1\n",
            "132 /content/drive/MyDrive/BANGKIT_CAPSTONE/dataset/mixed/stalking/00 - Dataset - WhatsApp Audio 2021-05-23 at 07.43.58.wav: 1\n"
          ]
        },
        {
          "output_type": "stream",
          "name": "stderr",
          "text": [
            "/usr/local/lib/python3.7/dist-packages/librosa/core/audio.py:165: UserWarning: PySoundFile failed. Trying audioread instead.\n",
            "  warnings.warn(\"PySoundFile failed. Trying audioread instead.\")\n"
          ]
        },
        {
          "output_type": "stream",
          "name": "stdout",
          "text": [
            "133 /content/drive/MyDrive/BANGKIT_CAPSTONE/dataset/mixed/stalking/audio 114.ogg: 1\n"
          ]
        },
        {
          "output_type": "stream",
          "name": "stderr",
          "text": [
            "/usr/local/lib/python3.7/dist-packages/librosa/core/audio.py:165: UserWarning: PySoundFile failed. Trying audioread instead.\n",
            "  warnings.warn(\"PySoundFile failed. Trying audioread instead.\")\n"
          ]
        },
        {
          "output_type": "stream",
          "name": "stdout",
          "text": [
            "134 /content/drive/MyDrive/BANGKIT_CAPSTONE/dataset/mixed/stalking/audio 39.ogg: 1\n",
            "135 /content/drive/MyDrive/BANGKIT_CAPSTONE/dataset/mixed/stalking/00 - Dataset - voice 433031.wav: 1\n",
            "136 /content/drive/MyDrive/BANGKIT_CAPSTONE/dataset/mixed/stalking/00 - stalking - audio 17.wav: 1\n"
          ]
        },
        {
          "output_type": "stream",
          "name": "stderr",
          "text": [
            "/usr/local/lib/python3.7/dist-packages/librosa/core/audio.py:165: UserWarning: PySoundFile failed. Trying audioread instead.\n",
            "  warnings.warn(\"PySoundFile failed. Trying audioread instead.\")\n"
          ]
        },
        {
          "output_type": "stream",
          "name": "stdout",
          "text": [
            "137 /content/drive/MyDrive/BANGKIT_CAPSTONE/dataset/mixed/stalking/audio 86.ogg: 1\n"
          ]
        },
        {
          "output_type": "stream",
          "name": "stderr",
          "text": [
            "/usr/local/lib/python3.7/dist-packages/librosa/core/audio.py:165: UserWarning: PySoundFile failed. Trying audioread instead.\n",
            "  warnings.warn(\"PySoundFile failed. Trying audioread instead.\")\n"
          ]
        },
        {
          "output_type": "stream",
          "name": "stdout",
          "text": [
            "138 /content/drive/MyDrive/BANGKIT_CAPSTONE/dataset/mixed/stalking/audio 8.ogg: 1\n",
            "139 /content/drive/MyDrive/BANGKIT_CAPSTONE/dataset/mixed/stalking/00 - stalking - audio 48.wav: 1\n",
            "140 /content/drive/MyDrive/BANGKIT_CAPSTONE/dataset/mixed/stalking/00 - Dataset - WhatsApp Audio 2021-05-23 at 22.35.52.wav: 1\n"
          ]
        },
        {
          "output_type": "stream",
          "name": "stderr",
          "text": [
            "/usr/local/lib/python3.7/dist-packages/librosa/core/audio.py:165: UserWarning: PySoundFile failed. Trying audioread instead.\n",
            "  warnings.warn(\"PySoundFile failed. Trying audioread instead.\")\n"
          ]
        },
        {
          "output_type": "stream",
          "name": "stdout",
          "text": [
            "141 /content/drive/MyDrive/BANGKIT_CAPSTONE/dataset/mixed/stalking/audio 17.ogg: 1\n"
          ]
        },
        {
          "output_type": "stream",
          "name": "stderr",
          "text": [
            "/usr/local/lib/python3.7/dist-packages/librosa/core/audio.py:165: UserWarning: PySoundFile failed. Trying audioread instead.\n",
            "  warnings.warn(\"PySoundFile failed. Trying audioread instead.\")\n"
          ]
        },
        {
          "output_type": "stream",
          "name": "stdout",
          "text": [
            "142 /content/drive/MyDrive/BANGKIT_CAPSTONE/dataset/mixed/stalking/audio 83.ogg: 1\n"
          ]
        },
        {
          "output_type": "stream",
          "name": "stderr",
          "text": [
            "/usr/local/lib/python3.7/dist-packages/librosa/core/audio.py:165: UserWarning: PySoundFile failed. Trying audioread instead.\n",
            "  warnings.warn(\"PySoundFile failed. Trying audioread instead.\")\n"
          ]
        },
        {
          "output_type": "stream",
          "name": "stdout",
          "text": [
            "143 /content/drive/MyDrive/BANGKIT_CAPSTONE/dataset/mixed/stalking/audio 41.ogg: 1\n",
            "144 /content/drive/MyDrive/BANGKIT_CAPSTONE/dataset/mixed/stalking/00 - stalking - audio 20.wav: 1\n",
            "145 /content/drive/MyDrive/BANGKIT_CAPSTONE/dataset/mixed/stalking/00 - Dataset - WhatsApp Audio 2021-05-23 at 22.35.53 (1).wav: 1\n"
          ]
        },
        {
          "output_type": "stream",
          "name": "stderr",
          "text": [
            "/usr/local/lib/python3.7/dist-packages/librosa/core/audio.py:165: UserWarning: PySoundFile failed. Trying audioread instead.\n",
            "  warnings.warn(\"PySoundFile failed. Trying audioread instead.\")\n"
          ]
        },
        {
          "output_type": "stream",
          "name": "stdout",
          "text": [
            "146 /content/drive/MyDrive/BANGKIT_CAPSTONE/dataset/mixed/stalking/audio 119.ogg: 1\n"
          ]
        },
        {
          "output_type": "stream",
          "name": "stderr",
          "text": [
            "/usr/local/lib/python3.7/dist-packages/librosa/core/audio.py:165: UserWarning: PySoundFile failed. Trying audioread instead.\n",
            "  warnings.warn(\"PySoundFile failed. Trying audioread instead.\")\n"
          ]
        },
        {
          "output_type": "stream",
          "name": "stdout",
          "text": [
            "147 /content/drive/MyDrive/BANGKIT_CAPSTONE/dataset/mixed/stalking/audio 50.ogg: 1\n",
            "148 /content/drive/MyDrive/BANGKIT_CAPSTONE/dataset/mixed/stalking/00 - stalking - audio 50.wav: 1\n",
            "149 /content/drive/MyDrive/BANGKIT_CAPSTONE/dataset/mixed/stalking/00 - stalking - audio 60.wav: 1\n",
            "150 /content/drive/MyDrive/BANGKIT_CAPSTONE/dataset/mixed/stalking/00 - Dataset - WhatsApp Audio 2021-05-23 at 22.35.52 (1).wav: 1\n"
          ]
        },
        {
          "output_type": "stream",
          "name": "stderr",
          "text": [
            "/usr/local/lib/python3.7/dist-packages/librosa/core/audio.py:165: UserWarning: PySoundFile failed. Trying audioread instead.\n",
            "  warnings.warn(\"PySoundFile failed. Trying audioread instead.\")\n"
          ]
        },
        {
          "output_type": "stream",
          "name": "stdout",
          "text": [
            "151 /content/drive/MyDrive/BANGKIT_CAPSTONE/dataset/mixed/stalking/audio 9.ogg: 1\n",
            "152 /content/drive/MyDrive/BANGKIT_CAPSTONE/dataset/mixed/stalking/00 - stalking - audio 10.wav: 1\n"
          ]
        },
        {
          "output_type": "stream",
          "name": "stderr",
          "text": [
            "/usr/local/lib/python3.7/dist-packages/librosa/core/audio.py:165: UserWarning: PySoundFile failed. Trying audioread instead.\n",
            "  warnings.warn(\"PySoundFile failed. Trying audioread instead.\")\n"
          ]
        },
        {
          "output_type": "stream",
          "name": "stdout",
          "text": [
            "153 /content/drive/MyDrive/BANGKIT_CAPSTONE/dataset/mixed/stalking/audio 57.ogg: 1\n"
          ]
        },
        {
          "output_type": "stream",
          "name": "stderr",
          "text": [
            "/usr/local/lib/python3.7/dist-packages/librosa/core/audio.py:165: UserWarning: PySoundFile failed. Trying audioread instead.\n",
            "  warnings.warn(\"PySoundFile failed. Trying audioread instead.\")\n"
          ]
        },
        {
          "output_type": "stream",
          "name": "stdout",
          "text": [
            "154 /content/drive/MyDrive/BANGKIT_CAPSTONE/dataset/mixed/stalking/audio 2.ogg: 1\n"
          ]
        },
        {
          "output_type": "stream",
          "name": "stderr",
          "text": [
            "/usr/local/lib/python3.7/dist-packages/librosa/core/audio.py:165: UserWarning: PySoundFile failed. Trying audioread instead.\n",
            "  warnings.warn(\"PySoundFile failed. Trying audioread instead.\")\n"
          ]
        },
        {
          "output_type": "stream",
          "name": "stdout",
          "text": [
            "155 /content/drive/MyDrive/BANGKIT_CAPSTONE/dataset/mixed/stalking/audio 90.ogg: 1\n",
            "156 /content/drive/MyDrive/BANGKIT_CAPSTONE/dataset/mixed/stalking/00 - Dataset - WhatsApp Audio 2021-05-23 at 07.43.56.wav: 1\n"
          ]
        },
        {
          "output_type": "stream",
          "name": "stderr",
          "text": [
            "/usr/local/lib/python3.7/dist-packages/librosa/core/audio.py:165: UserWarning: PySoundFile failed. Trying audioread instead.\n",
            "  warnings.warn(\"PySoundFile failed. Trying audioread instead.\")\n"
          ]
        },
        {
          "output_type": "stream",
          "name": "stdout",
          "text": [
            "157 /content/drive/MyDrive/BANGKIT_CAPSTONE/dataset/mixed/stalking/audio 4.ogg: 1\n",
            "158 /content/drive/MyDrive/BANGKIT_CAPSTONE/dataset/mixed/stalking/00 - Dataset - voice 433028.wav: 1\n",
            "159 /content/drive/MyDrive/BANGKIT_CAPSTONE/dataset/mixed/stalking/00 - stalking - audio 2.wav: 1\n",
            "160 /content/drive/MyDrive/BANGKIT_CAPSTONE/dataset/mixed/stalking/00 - stalking - audio 79.wav: 1\n",
            "161 /content/drive/MyDrive/BANGKIT_CAPSTONE/dataset/mixed/stalking/00 - stalking - audio 46.wav: 1\n",
            "162 /content/drive/MyDrive/BANGKIT_CAPSTONE/dataset/mixed/stalking/00 - Dataset - WhatsApp Audio 2021-05-23 at 07.43.55.wav: 1\n",
            "163 /content/drive/MyDrive/BANGKIT_CAPSTONE/dataset/mixed/stalking/00 - stalking - audio 53.wav: 1\n",
            "164 /content/drive/MyDrive/BANGKIT_CAPSTONE/dataset/mixed/stalking/00 - stalking - audio 97.wav: 1\n",
            "\n",
            "Processing: 'physical'\n"
          ]
        },
        {
          "output_type": "stream",
          "name": "stderr",
          "text": [
            "/usr/local/lib/python3.7/dist-packages/librosa/core/audio.py:165: UserWarning: PySoundFile failed. Trying audioread instead.\n",
            "  warnings.warn(\"PySoundFile failed. Trying audioread instead.\")\n"
          ]
        },
        {
          "output_type": "stream",
          "name": "stdout",
          "text": [
            "165 /content/drive/MyDrive/BANGKIT_CAPSTONE/dataset/mixed/physical/audio 56.ogg: 2\n",
            "166 /content/drive/MyDrive/BANGKIT_CAPSTONE/dataset/mixed/physical/00 - physical - audio 56.wav: 2\n"
          ]
        },
        {
          "output_type": "stream",
          "name": "stderr",
          "text": [
            "/usr/local/lib/python3.7/dist-packages/librosa/core/audio.py:165: UserWarning: PySoundFile failed. Trying audioread instead.\n",
            "  warnings.warn(\"PySoundFile failed. Trying audioread instead.\")\n"
          ]
        },
        {
          "output_type": "stream",
          "name": "stdout",
          "text": [
            "167 /content/drive/MyDrive/BANGKIT_CAPSTONE/dataset/mixed/physical/audio 92.ogg: 2\n"
          ]
        },
        {
          "output_type": "stream",
          "name": "stderr",
          "text": [
            "/usr/local/lib/python3.7/dist-packages/librosa/core/audio.py:165: UserWarning: PySoundFile failed. Trying audioread instead.\n",
            "  warnings.warn(\"PySoundFile failed. Trying audioread instead.\")\n"
          ]
        },
        {
          "output_type": "stream",
          "name": "stdout",
          "text": [
            "168 /content/drive/MyDrive/BANGKIT_CAPSTONE/dataset/mixed/physical/audio 16.ogg: 2\n"
          ]
        },
        {
          "output_type": "stream",
          "name": "stderr",
          "text": [
            "/usr/local/lib/python3.7/dist-packages/librosa/core/audio.py:165: UserWarning: PySoundFile failed. Trying audioread instead.\n",
            "  warnings.warn(\"PySoundFile failed. Trying audioread instead.\")\n"
          ]
        },
        {
          "output_type": "stream",
          "name": "stdout",
          "text": [
            "169 /content/drive/MyDrive/BANGKIT_CAPSTONE/dataset/mixed/physical/audio 35.ogg: 2\n"
          ]
        },
        {
          "output_type": "stream",
          "name": "stderr",
          "text": [
            "/usr/local/lib/python3.7/dist-packages/librosa/core/audio.py:165: UserWarning: PySoundFile failed. Trying audioread instead.\n",
            "  warnings.warn(\"PySoundFile failed. Trying audioread instead.\")\n"
          ]
        },
        {
          "output_type": "stream",
          "name": "stdout",
          "text": [
            "170 /content/drive/MyDrive/BANGKIT_CAPSTONE/dataset/mixed/physical/audio 37.ogg: 2\n"
          ]
        },
        {
          "output_type": "stream",
          "name": "stderr",
          "text": [
            "/usr/local/lib/python3.7/dist-packages/librosa/core/audio.py:165: UserWarning: PySoundFile failed. Trying audioread instead.\n",
            "  warnings.warn(\"PySoundFile failed. Trying audioread instead.\")\n"
          ]
        },
        {
          "output_type": "stream",
          "name": "stdout",
          "text": [
            "171 /content/drive/MyDrive/BANGKIT_CAPSTONE/dataset/mixed/physical/audio 115.ogg: 2\n"
          ]
        },
        {
          "output_type": "stream",
          "name": "stderr",
          "text": [
            "/usr/local/lib/python3.7/dist-packages/librosa/core/audio.py:165: UserWarning: PySoundFile failed. Trying audioread instead.\n",
            "  warnings.warn(\"PySoundFile failed. Trying audioread instead.\")\n"
          ]
        },
        {
          "output_type": "stream",
          "name": "stdout",
          "text": [
            "172 /content/drive/MyDrive/BANGKIT_CAPSTONE/dataset/mixed/physical/audio 68.ogg: 2\n"
          ]
        },
        {
          "output_type": "stream",
          "name": "stderr",
          "text": [
            "/usr/local/lib/python3.7/dist-packages/librosa/core/audio.py:165: UserWarning: PySoundFile failed. Trying audioread instead.\n",
            "  warnings.warn(\"PySoundFile failed. Trying audioread instead.\")\n"
          ]
        },
        {
          "output_type": "stream",
          "name": "stdout",
          "text": [
            "173 /content/drive/MyDrive/BANGKIT_CAPSTONE/dataset/mixed/physical/audio 91.ogg: 2\n"
          ]
        },
        {
          "output_type": "stream",
          "name": "stderr",
          "text": [
            "/usr/local/lib/python3.7/dist-packages/librosa/core/audio.py:165: UserWarning: PySoundFile failed. Trying audioread instead.\n",
            "  warnings.warn(\"PySoundFile failed. Trying audioread instead.\")\n"
          ]
        },
        {
          "output_type": "stream",
          "name": "stdout",
          "text": [
            "174 /content/drive/MyDrive/BANGKIT_CAPSTONE/dataset/mixed/physical/audio 5.ogg: 2\n",
            "175 /content/drive/MyDrive/BANGKIT_CAPSTONE/dataset/mixed/physical/00 - Dataset - voice 433079.wav: 2\n"
          ]
        },
        {
          "output_type": "stream",
          "name": "stderr",
          "text": [
            "/usr/local/lib/python3.7/dist-packages/librosa/core/audio.py:165: UserWarning: PySoundFile failed. Trying audioread instead.\n",
            "  warnings.warn(\"PySoundFile failed. Trying audioread instead.\")\n"
          ]
        },
        {
          "output_type": "stream",
          "name": "stdout",
          "text": [
            "176 /content/drive/MyDrive/BANGKIT_CAPSTONE/dataset/mixed/physical/audio 33.ogg: 2\n"
          ]
        },
        {
          "output_type": "stream",
          "name": "stderr",
          "text": [
            "/usr/local/lib/python3.7/dist-packages/librosa/core/audio.py:165: UserWarning: PySoundFile failed. Trying audioread instead.\n",
            "  warnings.warn(\"PySoundFile failed. Trying audioread instead.\")\n"
          ]
        },
        {
          "output_type": "stream",
          "name": "stdout",
          "text": [
            "177 /content/drive/MyDrive/BANGKIT_CAPSTONE/dataset/mixed/physical/audio 45.ogg: 2\n",
            "178 /content/drive/MyDrive/BANGKIT_CAPSTONE/dataset/mixed/physical/00 - physical - audio 35.wav: 2\n",
            "179 /content/drive/MyDrive/BANGKIT_CAPSTONE/dataset/mixed/physical/00 - physical - audio 108.wav: 2\n"
          ]
        },
        {
          "output_type": "stream",
          "name": "stderr",
          "text": [
            "/usr/local/lib/python3.7/dist-packages/librosa/core/audio.py:165: UserWarning: PySoundFile failed. Trying audioread instead.\n",
            "  warnings.warn(\"PySoundFile failed. Trying audioread instead.\")\n"
          ]
        },
        {
          "output_type": "stream",
          "name": "stdout",
          "text": [
            "180 /content/drive/MyDrive/BANGKIT_CAPSTONE/dataset/mixed/physical/audio 85.ogg: 2\n",
            "181 /content/drive/MyDrive/BANGKIT_CAPSTONE/dataset/mixed/physical/00 - physical - audio 115.wav: 2\n",
            "182 /content/drive/MyDrive/BANGKIT_CAPSTONE/dataset/mixed/physical/00 - physical - audio 37.wav: 2\n"
          ]
        },
        {
          "output_type": "stream",
          "name": "stderr",
          "text": [
            "/usr/local/lib/python3.7/dist-packages/librosa/core/audio.py:165: UserWarning: PySoundFile failed. Trying audioread instead.\n",
            "  warnings.warn(\"PySoundFile failed. Trying audioread instead.\")\n"
          ]
        },
        {
          "output_type": "stream",
          "name": "stdout",
          "text": [
            "183 /content/drive/MyDrive/BANGKIT_CAPSTONE/dataset/mixed/physical/audio 15.ogg: 2\n"
          ]
        },
        {
          "output_type": "stream",
          "name": "stderr",
          "text": [
            "/usr/local/lib/python3.7/dist-packages/librosa/core/audio.py:165: UserWarning: PySoundFile failed. Trying audioread instead.\n",
            "  warnings.warn(\"PySoundFile failed. Trying audioread instead.\")\n"
          ]
        },
        {
          "output_type": "stream",
          "name": "stdout",
          "text": [
            "184 /content/drive/MyDrive/BANGKIT_CAPSTONE/dataset/mixed/physical/audio 52.ogg: 2\n",
            "185 /content/drive/MyDrive/BANGKIT_CAPSTONE/dataset/mixed/physical/00 - physical - audio 68.wav: 2\n"
          ]
        },
        {
          "output_type": "stream",
          "name": "stderr",
          "text": [
            "/usr/local/lib/python3.7/dist-packages/librosa/core/audio.py:165: UserWarning: PySoundFile failed. Trying audioread instead.\n",
            "  warnings.warn(\"PySoundFile failed. Trying audioread instead.\")\n"
          ]
        },
        {
          "output_type": "stream",
          "name": "stdout",
          "text": [
            "186 /content/drive/MyDrive/BANGKIT_CAPSTONE/dataset/mixed/physical/audio 77.ogg: 2\n",
            "187 /content/drive/MyDrive/BANGKIT_CAPSTONE/dataset/mixed/physical/00 - Dataset - Amanda3.wav: 2\n",
            "188 /content/drive/MyDrive/BANGKIT_CAPSTONE/dataset/mixed/physical/00 - Dataset - Amanda4.wav: 2\n"
          ]
        },
        {
          "output_type": "stream",
          "name": "stderr",
          "text": [
            "/usr/local/lib/python3.7/dist-packages/librosa/core/audio.py:165: UserWarning: PySoundFile failed. Trying audioread instead.\n",
            "  warnings.warn(\"PySoundFile failed. Trying audioread instead.\")\n"
          ]
        },
        {
          "output_type": "stream",
          "name": "stdout",
          "text": [
            "189 /content/drive/MyDrive/BANGKIT_CAPSTONE/dataset/mixed/physical/audio 108.ogg: 2\n"
          ]
        },
        {
          "output_type": "stream",
          "name": "stderr",
          "text": [
            "/usr/local/lib/python3.7/dist-packages/librosa/core/audio.py:165: UserWarning: PySoundFile failed. Trying audioread instead.\n",
            "  warnings.warn(\"PySoundFile failed. Trying audioread instead.\")\n"
          ]
        },
        {
          "output_type": "stream",
          "name": "stdout",
          "text": [
            "190 /content/drive/MyDrive/BANGKIT_CAPSTONE/dataset/mixed/physical/audio 113.ogg: 2\n",
            "191 /content/drive/MyDrive/BANGKIT_CAPSTONE/dataset/mixed/physical/00 - physical - audio 91.wav: 2\n"
          ]
        },
        {
          "output_type": "stream",
          "name": "stderr",
          "text": [
            "/usr/local/lib/python3.7/dist-packages/librosa/core/audio.py:165: UserWarning: PySoundFile failed. Trying audioread instead.\n",
            "  warnings.warn(\"PySoundFile failed. Trying audioread instead.\")\n"
          ]
        },
        {
          "output_type": "stream",
          "name": "stdout",
          "text": [
            "192 /content/drive/MyDrive/BANGKIT_CAPSTONE/dataset/mixed/physical/audio 7.ogg: 2\n"
          ]
        },
        {
          "output_type": "stream",
          "name": "stderr",
          "text": [
            "/usr/local/lib/python3.7/dist-packages/librosa/core/audio.py:165: UserWarning: PySoundFile failed. Trying audioread instead.\n",
            "  warnings.warn(\"PySoundFile failed. Trying audioread instead.\")\n"
          ]
        },
        {
          "output_type": "stream",
          "name": "stdout",
          "text": [
            "193 /content/drive/MyDrive/BANGKIT_CAPSTONE/dataset/mixed/physical/audio 73.ogg: 2\n",
            "194 /content/drive/MyDrive/BANGKIT_CAPSTONE/dataset/mixed/physical/00 - Dataset - voice 433081.wav: 2\n"
          ]
        },
        {
          "output_type": "stream",
          "name": "stderr",
          "text": [
            "/usr/local/lib/python3.7/dist-packages/librosa/core/audio.py:165: UserWarning: PySoundFile failed. Trying audioread instead.\n",
            "  warnings.warn(\"PySoundFile failed. Trying audioread instead.\")\n"
          ]
        },
        {
          "output_type": "stream",
          "name": "stdout",
          "text": [
            "195 /content/drive/MyDrive/BANGKIT_CAPSTONE/dataset/mixed/physical/audio 98.ogg: 2\n"
          ]
        },
        {
          "output_type": "stream",
          "name": "stderr",
          "text": [
            "/usr/local/lib/python3.7/dist-packages/librosa/core/audio.py:165: UserWarning: PySoundFile failed. Trying audioread instead.\n",
            "  warnings.warn(\"PySoundFile failed. Trying audioread instead.\")\n"
          ]
        },
        {
          "output_type": "stream",
          "name": "stdout",
          "text": [
            "196 /content/drive/MyDrive/BANGKIT_CAPSTONE/dataset/mixed/physical/audio 96.ogg: 2\n",
            "197 /content/drive/MyDrive/BANGKIT_CAPSTONE/dataset/mixed/physical/00 - physical - audio 98.wav: 2\n",
            "198 /content/drive/MyDrive/BANGKIT_CAPSTONE/dataset/mixed/physical/00 - physical - audio 5.wav: 2\n"
          ]
        },
        {
          "output_type": "stream",
          "name": "stderr",
          "text": [
            "/usr/local/lib/python3.7/dist-packages/librosa/core/audio.py:165: UserWarning: PySoundFile failed. Trying audioread instead.\n",
            "  warnings.warn(\"PySoundFile failed. Trying audioread instead.\")\n"
          ]
        },
        {
          "output_type": "stream",
          "name": "stdout",
          "text": [
            "199 /content/drive/MyDrive/BANGKIT_CAPSTONE/dataset/mixed/physical/audio 117.ogg: 2\n"
          ]
        },
        {
          "output_type": "stream",
          "name": "stderr",
          "text": [
            "/usr/local/lib/python3.7/dist-packages/librosa/core/audio.py:165: UserWarning: PySoundFile failed. Trying audioread instead.\n",
            "  warnings.warn(\"PySoundFile failed. Trying audioread instead.\")\n"
          ]
        },
        {
          "output_type": "stream",
          "name": "stdout",
          "text": [
            "200 /content/drive/MyDrive/BANGKIT_CAPSTONE/dataset/mixed/physical/audio 28.ogg: 2\n"
          ]
        },
        {
          "output_type": "stream",
          "name": "stderr",
          "text": [
            "/usr/local/lib/python3.7/dist-packages/librosa/core/audio.py:165: UserWarning: PySoundFile failed. Trying audioread instead.\n",
            "  warnings.warn(\"PySoundFile failed. Trying audioread instead.\")\n"
          ]
        },
        {
          "output_type": "stream",
          "name": "stdout",
          "text": [
            "201 /content/drive/MyDrive/BANGKIT_CAPSTONE/dataset/mixed/physical/audio 89.ogg: 2\n"
          ]
        },
        {
          "output_type": "stream",
          "name": "stderr",
          "text": [
            "/usr/local/lib/python3.7/dist-packages/librosa/core/audio.py:165: UserWarning: PySoundFile failed. Trying audioread instead.\n",
            "  warnings.warn(\"PySoundFile failed. Trying audioread instead.\")\n"
          ]
        },
        {
          "output_type": "stream",
          "name": "stdout",
          "text": [
            "202 /content/drive/MyDrive/BANGKIT_CAPSTONE/dataset/mixed/physical/audio 87.ogg: 2\n",
            "203 /content/drive/MyDrive/BANGKIT_CAPSTONE/dataset/mixed/physical/00 - physical - audio 15.wav: 2\n",
            "204 /content/drive/MyDrive/BANGKIT_CAPSTONE/dataset/mixed/physical/00 - physical - audio 87.wav: 2\n",
            "205 /content/drive/MyDrive/BANGKIT_CAPSTONE/dataset/mixed/physical/00 - physical - audio 85.wav: 2\n"
          ]
        },
        {
          "output_type": "stream",
          "name": "stderr",
          "text": [
            "/usr/local/lib/python3.7/dist-packages/librosa/core/audio.py:165: UserWarning: PySoundFile failed. Trying audioread instead.\n",
            "  warnings.warn(\"PySoundFile failed. Trying audioread instead.\")\n"
          ]
        },
        {
          "output_type": "stream",
          "name": "stdout",
          "text": [
            "206 /content/drive/MyDrive/BANGKIT_CAPSTONE/dataset/mixed/physical/audio 116.ogg: 2\n",
            "207 /content/drive/MyDrive/BANGKIT_CAPSTONE/dataset/mixed/physical/00 - physical - audio 4.wav: 2\n",
            "208 /content/drive/MyDrive/BANGKIT_CAPSTONE/dataset/mixed/physical/00 - physical - audio 75.wav: 2\n",
            "209 /content/drive/MyDrive/BANGKIT_CAPSTONE/dataset/mixed/physical/00 - physical - audio 6.wav: 2\n",
            "210 /content/drive/MyDrive/BANGKIT_CAPSTONE/dataset/mixed/physical/00 - physical - audio 113.wav: 2\n"
          ]
        },
        {
          "output_type": "stream",
          "name": "stderr",
          "text": [
            "/usr/local/lib/python3.7/dist-packages/librosa/core/audio.py:165: UserWarning: PySoundFile failed. Trying audioread instead.\n",
            "  warnings.warn(\"PySoundFile failed. Trying audioread instead.\")\n"
          ]
        },
        {
          "output_type": "stream",
          "name": "stdout",
          "text": [
            "211 /content/drive/MyDrive/BANGKIT_CAPSTONE/dataset/mixed/physical/audio 3.ogg: 2\n",
            "212 /content/drive/MyDrive/BANGKIT_CAPSTONE/dataset/mixed/physical/00 - Dataset - voice 433087.wav: 2\n",
            "213 /content/drive/MyDrive/BANGKIT_CAPSTONE/dataset/mixed/physical/00 - Dataset - Amanda5.wav: 2\n"
          ]
        },
        {
          "output_type": "stream",
          "name": "stderr",
          "text": [
            "/usr/local/lib/python3.7/dist-packages/librosa/core/audio.py:165: UserWarning: PySoundFile failed. Trying audioread instead.\n",
            "  warnings.warn(\"PySoundFile failed. Trying audioread instead.\")\n"
          ]
        },
        {
          "output_type": "stream",
          "name": "stdout",
          "text": [
            "214 /content/drive/MyDrive/BANGKIT_CAPSTONE/dataset/mixed/physical/audio 102.ogg: 2\n"
          ]
        },
        {
          "output_type": "stream",
          "name": "stderr",
          "text": [
            "/usr/local/lib/python3.7/dist-packages/librosa/core/audio.py:165: UserWarning: PySoundFile failed. Trying audioread instead.\n",
            "  warnings.warn(\"PySoundFile failed. Trying audioread instead.\")\n"
          ]
        },
        {
          "output_type": "stream",
          "name": "stdout",
          "text": [
            "215 /content/drive/MyDrive/BANGKIT_CAPSTONE/dataset/mixed/physical/audio 6.ogg: 2\n"
          ]
        },
        {
          "output_type": "stream",
          "name": "stderr",
          "text": [
            "/usr/local/lib/python3.7/dist-packages/librosa/core/audio.py:165: UserWarning: PySoundFile failed. Trying audioread instead.\n",
            "  warnings.warn(\"PySoundFile failed. Trying audioread instead.\")\n"
          ]
        },
        {
          "output_type": "stream",
          "name": "stdout",
          "text": [
            "216 /content/drive/MyDrive/BANGKIT_CAPSTONE/dataset/mixed/physical/audio 4.ogg: 2\n",
            "217 /content/drive/MyDrive/BANGKIT_CAPSTONE/dataset/mixed/physical/00 - physical - audio 92.wav: 2\n",
            "218 /content/drive/MyDrive/BANGKIT_CAPSTONE/dataset/mixed/physical/00 - physical - audio 102.wav: 2\n",
            "219 /content/drive/MyDrive/BANGKIT_CAPSTONE/dataset/mixed/physical/00 - physical - audio 45.wav: 2\n",
            "220 /content/drive/MyDrive/BANGKIT_CAPSTONE/dataset/mixed/physical/00 - Dataset - voice 433082.wav: 2\n",
            "221 /content/drive/MyDrive/BANGKIT_CAPSTONE/dataset/mixed/physical/00 - physical - audio 52.wav: 2\n",
            "222 /content/drive/MyDrive/BANGKIT_CAPSTONE/dataset/mixed/physical/00 - physical - audio 76.wav: 2\n"
          ]
        },
        {
          "output_type": "stream",
          "name": "stderr",
          "text": [
            "/usr/local/lib/python3.7/dist-packages/librosa/core/audio.py:165: UserWarning: PySoundFile failed. Trying audioread instead.\n",
            "  warnings.warn(\"PySoundFile failed. Trying audioread instead.\")\n"
          ]
        },
        {
          "output_type": "stream",
          "name": "stdout",
          "text": [
            "223 /content/drive/MyDrive/BANGKIT_CAPSTONE/dataset/mixed/physical/audio 75.ogg: 2\n"
          ]
        },
        {
          "output_type": "stream",
          "name": "stderr",
          "text": [
            "/usr/local/lib/python3.7/dist-packages/librosa/core/audio.py:165: UserWarning: PySoundFile failed. Trying audioread instead.\n",
            "  warnings.warn(\"PySoundFile failed. Trying audioread instead.\")\n"
          ]
        },
        {
          "output_type": "stream",
          "name": "stdout",
          "text": [
            "224 /content/drive/MyDrive/BANGKIT_CAPSTONE/dataset/mixed/physical/audio 76.ogg: 2\n",
            "225 /content/drive/MyDrive/BANGKIT_CAPSTONE/dataset/mixed/physical/00 - physical - audio 117.wav: 2\n"
          ]
        },
        {
          "output_type": "stream",
          "name": "stderr",
          "text": [
            "/usr/local/lib/python3.7/dist-packages/librosa/core/audio.py:165: UserWarning: PySoundFile failed. Trying audioread instead.\n",
            "  warnings.warn(\"PySoundFile failed. Trying audioread instead.\")\n"
          ]
        },
        {
          "output_type": "stream",
          "name": "stdout",
          "text": [
            "226 /content/drive/MyDrive/BANGKIT_CAPSTONE/dataset/mixed/physical/audio 84.ogg: 2\n",
            "227 /content/drive/MyDrive/BANGKIT_CAPSTONE/dataset/mixed/physical/00 - Dataset - voice 433029.wav: 2\n",
            "228 /content/drive/MyDrive/BANGKIT_CAPSTONE/dataset/mixed/physical/00 - Dataset - voice 433085.wav: 2\n",
            "229 /content/drive/MyDrive/BANGKIT_CAPSTONE/dataset/mixed/physical/00 - physical - audio 89.wav: 2\n",
            "230 /content/drive/MyDrive/BANGKIT_CAPSTONE/dataset/mixed/physical/00 - Dataset - WhatsApp Audio 2021-05-23 at 22.35.53 (2).wav: 2\n",
            "231 /content/drive/MyDrive/BANGKIT_CAPSTONE/dataset/mixed/physical/00 - physical - audio 16.wav: 2\n",
            "232 /content/drive/MyDrive/BANGKIT_CAPSTONE/dataset/mixed/physical/00 - physical - audio 3.wav: 2\n",
            "233 /content/drive/MyDrive/BANGKIT_CAPSTONE/dataset/mixed/physical/00 - physical - audio 84.wav: 2\n",
            "234 /content/drive/MyDrive/BANGKIT_CAPSTONE/dataset/mixed/physical/00 - physical - audio 33.wav: 2\n",
            "235 /content/drive/MyDrive/BANGKIT_CAPSTONE/dataset/mixed/physical/00 - physical - audio 7.wav: 2\n",
            "236 /content/drive/MyDrive/BANGKIT_CAPSTONE/dataset/mixed/physical/00 - physical - audio 51.wav: 2\n"
          ]
        },
        {
          "output_type": "stream",
          "name": "stderr",
          "text": [
            "/usr/local/lib/python3.7/dist-packages/librosa/core/audio.py:165: UserWarning: PySoundFile failed. Trying audioread instead.\n",
            "  warnings.warn(\"PySoundFile failed. Trying audioread instead.\")\n"
          ]
        },
        {
          "output_type": "stream",
          "name": "stdout",
          "text": [
            "237 /content/drive/MyDrive/BANGKIT_CAPSTONE/dataset/mixed/physical/audio 13.ogg: 2\n"
          ]
        },
        {
          "output_type": "stream",
          "name": "stderr",
          "text": [
            "/usr/local/lib/python3.7/dist-packages/librosa/core/audio.py:165: UserWarning: PySoundFile failed. Trying audioread instead.\n",
            "  warnings.warn(\"PySoundFile failed. Trying audioread instead.\")\n"
          ]
        },
        {
          "output_type": "stream",
          "name": "stdout",
          "text": [
            "238 /content/drive/MyDrive/BANGKIT_CAPSTONE/dataset/mixed/physical/audio 51.ogg: 2\n",
            "239 /content/drive/MyDrive/BANGKIT_CAPSTONE/dataset/mixed/physical/00 - physical - audio 116.wav: 2\n",
            "240 /content/drive/MyDrive/BANGKIT_CAPSTONE/dataset/mixed/physical/00 - physical - audio 96.wav: 2\n",
            "241 /content/drive/MyDrive/BANGKIT_CAPSTONE/dataset/mixed/physical/00 - physical - audio 13.wav: 2\n",
            "242 /content/drive/MyDrive/BANGKIT_CAPSTONE/dataset/mixed/physical/00 - physical - audio 73.wav: 2\n",
            "243 /content/drive/MyDrive/BANGKIT_CAPSTONE/dataset/mixed/physical/00 - physical - audio 28.wav: 2\n",
            "244 /content/drive/MyDrive/BANGKIT_CAPSTONE/dataset/mixed/physical/00 - Dataset - voice 433030.wav: 2\n",
            "245 /content/drive/MyDrive/BANGKIT_CAPSTONE/dataset/mixed/physical/00 - Dataset - voice 433077.wav: 2\n",
            "246 /content/drive/MyDrive/BANGKIT_CAPSTONE/dataset/mixed/physical/00 - physical - audio 77.wav: 2\n",
            "\n",
            "Processing: 'domestic'\n",
            "247 /content/drive/MyDrive/BANGKIT_CAPSTONE/dataset/mixed/domestic/00 - domestic - audio 104.wav: 3\n"
          ]
        },
        {
          "output_type": "stream",
          "name": "stderr",
          "text": [
            "/usr/local/lib/python3.7/dist-packages/librosa/core/audio.py:165: UserWarning: PySoundFile failed. Trying audioread instead.\n",
            "  warnings.warn(\"PySoundFile failed. Trying audioread instead.\")\n"
          ]
        },
        {
          "output_type": "stream",
          "name": "stdout",
          "text": [
            "248 /content/drive/MyDrive/BANGKIT_CAPSTONE/dataset/mixed/domestic/audio 27.ogg: 3\n"
          ]
        },
        {
          "output_type": "stream",
          "name": "stderr",
          "text": [
            "/usr/local/lib/python3.7/dist-packages/librosa/core/audio.py:165: UserWarning: PySoundFile failed. Trying audioread instead.\n",
            "  warnings.warn(\"PySoundFile failed. Trying audioread instead.\")\n"
          ]
        },
        {
          "output_type": "stream",
          "name": "stdout",
          "text": [
            "249 /content/drive/MyDrive/BANGKIT_CAPSTONE/dataset/mixed/domestic/audio 38.ogg: 3\n",
            "250 /content/drive/MyDrive/BANGKIT_CAPSTONE/dataset/mixed/domestic/00 - domestic - audio 111.wav: 3\n",
            "251 /content/drive/MyDrive/BANGKIT_CAPSTONE/dataset/mixed/domestic/00 - domestic - audio 26.wav: 3\n",
            "252 /content/drive/MyDrive/BANGKIT_CAPSTONE/dataset/mixed/domestic/00 - domestic - audio 106.wav: 3\n"
          ]
        },
        {
          "output_type": "stream",
          "name": "stderr",
          "text": [
            "/usr/local/lib/python3.7/dist-packages/librosa/core/audio.py:165: UserWarning: PySoundFile failed. Trying audioread instead.\n",
            "  warnings.warn(\"PySoundFile failed. Trying audioread instead.\")\n"
          ]
        },
        {
          "output_type": "stream",
          "name": "stdout",
          "text": [
            "253 /content/drive/MyDrive/BANGKIT_CAPSTONE/dataset/mixed/domestic/audio 78.ogg: 3\n"
          ]
        },
        {
          "output_type": "stream",
          "name": "stderr",
          "text": [
            "/usr/local/lib/python3.7/dist-packages/librosa/core/audio.py:165: UserWarning: PySoundFile failed. Trying audioread instead.\n",
            "  warnings.warn(\"PySoundFile failed. Trying audioread instead.\")\n"
          ]
        },
        {
          "output_type": "stream",
          "name": "stdout",
          "text": [
            "254 /content/drive/MyDrive/BANGKIT_CAPSTONE/dataset/mixed/domestic/audio 32.ogg: 3\n",
            "255 /content/drive/MyDrive/BANGKIT_CAPSTONE/dataset/mixed/domestic/00 - domestic - audio 118.wav: 3\n",
            "256 /content/drive/MyDrive/BANGKIT_CAPSTONE/dataset/mixed/domestic/00 - domestic - audio 64.wav: 3\n",
            "257 /content/drive/MyDrive/BANGKIT_CAPSTONE/dataset/mixed/domestic/00 - domestic - audio 27.wav: 3\n",
            "258 /content/drive/MyDrive/BANGKIT_CAPSTONE/dataset/mixed/domestic/00 - domestic - audio 67.wav: 3\n",
            "259 /content/drive/MyDrive/BANGKIT_CAPSTONE/dataset/mixed/domestic/00 - domestic - audio 120.wav: 3\n"
          ]
        },
        {
          "output_type": "stream",
          "name": "stderr",
          "text": [
            "/usr/local/lib/python3.7/dist-packages/librosa/core/audio.py:165: UserWarning: PySoundFile failed. Trying audioread instead.\n",
            "  warnings.warn(\"PySoundFile failed. Trying audioread instead.\")\n"
          ]
        },
        {
          "output_type": "stream",
          "name": "stdout",
          "text": [
            "260 /content/drive/MyDrive/BANGKIT_CAPSTONE/dataset/mixed/domestic/audio 25.ogg: 3\n"
          ]
        },
        {
          "output_type": "stream",
          "name": "stderr",
          "text": [
            "/usr/local/lib/python3.7/dist-packages/librosa/core/audio.py:165: UserWarning: PySoundFile failed. Trying audioread instead.\n",
            "  warnings.warn(\"PySoundFile failed. Trying audioread instead.\")\n"
          ]
        },
        {
          "output_type": "stream",
          "name": "stdout",
          "text": [
            "261 /content/drive/MyDrive/BANGKIT_CAPSTONE/dataset/mixed/domestic/audio 63.ogg: 3\n",
            "262 /content/drive/MyDrive/BANGKIT_CAPSTONE/dataset/mixed/domestic/00 - domestic - audio 25.wav: 3\n"
          ]
        },
        {
          "output_type": "stream",
          "name": "stderr",
          "text": [
            "/usr/local/lib/python3.7/dist-packages/librosa/core/audio.py:165: UserWarning: PySoundFile failed. Trying audioread instead.\n",
            "  warnings.warn(\"PySoundFile failed. Trying audioread instead.\")\n"
          ]
        },
        {
          "output_type": "stream",
          "name": "stdout",
          "text": [
            "263 /content/drive/MyDrive/BANGKIT_CAPSTONE/dataset/mixed/domestic/audio 24.ogg: 3\n",
            "264 /content/drive/MyDrive/BANGKIT_CAPSTONE/dataset/mixed/domestic/00 - domestic - audio 59.wav: 3\n",
            "265 /content/drive/MyDrive/BANGKIT_CAPSTONE/dataset/mixed/domestic/00 - domestic - audio 84.wav: 3\n"
          ]
        },
        {
          "output_type": "stream",
          "name": "stderr",
          "text": [
            "/usr/local/lib/python3.7/dist-packages/librosa/core/audio.py:165: UserWarning: PySoundFile failed. Trying audioread instead.\n",
            "  warnings.warn(\"PySoundFile failed. Trying audioread instead.\")\n"
          ]
        },
        {
          "output_type": "stream",
          "name": "stdout",
          "text": [
            "266 /content/drive/MyDrive/BANGKIT_CAPSTONE/dataset/mixed/domestic/audio 59.ogg: 3\n",
            "267 /content/drive/MyDrive/BANGKIT_CAPSTONE/dataset/mixed/domestic/00 - domestic - audio 63.wav: 3\n",
            "268 /content/drive/MyDrive/BANGKIT_CAPSTONE/dataset/mixed/domestic/00 - domestic - audio 61.wav: 3\n",
            "269 /content/drive/MyDrive/BANGKIT_CAPSTONE/dataset/mixed/domestic/00 - domestic - audio 78.wav: 3\n"
          ]
        },
        {
          "output_type": "stream",
          "name": "stderr",
          "text": [
            "/usr/local/lib/python3.7/dist-packages/librosa/core/audio.py:165: UserWarning: PySoundFile failed. Trying audioread instead.\n",
            "  warnings.warn(\"PySoundFile failed. Trying audioread instead.\")\n"
          ]
        },
        {
          "output_type": "stream",
          "name": "stdout",
          "text": [
            "270 /content/drive/MyDrive/BANGKIT_CAPSTONE/dataset/mixed/domestic/audio 110.ogg: 3\n",
            "271 /content/drive/MyDrive/BANGKIT_CAPSTONE/dataset/mixed/domestic/00 - domestic - audio 99.wav: 3\n"
          ]
        },
        {
          "output_type": "stream",
          "name": "stderr",
          "text": [
            "/usr/local/lib/python3.7/dist-packages/librosa/core/audio.py:165: UserWarning: PySoundFile failed. Trying audioread instead.\n",
            "  warnings.warn(\"PySoundFile failed. Trying audioread instead.\")\n"
          ]
        },
        {
          "output_type": "stream",
          "name": "stdout",
          "text": [
            "272 /content/drive/MyDrive/BANGKIT_CAPSTONE/dataset/mixed/domestic/audio 84.ogg: 3\n"
          ]
        },
        {
          "output_type": "stream",
          "name": "stderr",
          "text": [
            "/usr/local/lib/python3.7/dist-packages/librosa/core/audio.py:165: UserWarning: PySoundFile failed. Trying audioread instead.\n",
            "  warnings.warn(\"PySoundFile failed. Trying audioread instead.\")\n"
          ]
        },
        {
          "output_type": "stream",
          "name": "stdout",
          "text": [
            "273 /content/drive/MyDrive/BANGKIT_CAPSTONE/dataset/mixed/domestic/audio 85.ogg: 3\n"
          ]
        },
        {
          "output_type": "stream",
          "name": "stderr",
          "text": [
            "/usr/local/lib/python3.7/dist-packages/librosa/core/audio.py:165: UserWarning: PySoundFile failed. Trying audioread instead.\n",
            "  warnings.warn(\"PySoundFile failed. Trying audioread instead.\")\n"
          ]
        },
        {
          "output_type": "stream",
          "name": "stdout",
          "text": [
            "274 /content/drive/MyDrive/BANGKIT_CAPSTONE/dataset/mixed/domestic/audio 80.ogg: 3\n"
          ]
        },
        {
          "output_type": "stream",
          "name": "stderr",
          "text": [
            "/usr/local/lib/python3.7/dist-packages/librosa/core/audio.py:165: UserWarning: PySoundFile failed. Trying audioread instead.\n",
            "  warnings.warn(\"PySoundFile failed. Trying audioread instead.\")\n"
          ]
        },
        {
          "output_type": "stream",
          "name": "stdout",
          "text": [
            "275 /content/drive/MyDrive/BANGKIT_CAPSTONE/dataset/mixed/domestic/audio 71.ogg: 3\n",
            "276 /content/drive/MyDrive/BANGKIT_CAPSTONE/dataset/mixed/domestic/00 - domestic - audio 23.wav: 3\n"
          ]
        },
        {
          "output_type": "stream",
          "name": "stderr",
          "text": [
            "/usr/local/lib/python3.7/dist-packages/librosa/core/audio.py:165: UserWarning: PySoundFile failed. Trying audioread instead.\n",
            "  warnings.warn(\"PySoundFile failed. Trying audioread instead.\")\n"
          ]
        },
        {
          "output_type": "stream",
          "name": "stdout",
          "text": [
            "277 /content/drive/MyDrive/BANGKIT_CAPSTONE/dataset/mixed/domestic/audio 19.ogg: 3\n"
          ]
        },
        {
          "output_type": "stream",
          "name": "stderr",
          "text": [
            "/usr/local/lib/python3.7/dist-packages/librosa/core/audio.py:165: UserWarning: PySoundFile failed. Trying audioread instead.\n",
            "  warnings.warn(\"PySoundFile failed. Trying audioread instead.\")\n"
          ]
        },
        {
          "output_type": "stream",
          "name": "stdout",
          "text": [
            "278 /content/drive/MyDrive/BANGKIT_CAPSTONE/dataset/mixed/domestic/audio 107.ogg: 3\n",
            "279 /content/drive/MyDrive/BANGKIT_CAPSTONE/dataset/mixed/domestic/00 - Dataset - Amanda2.wav: 3\n",
            "280 /content/drive/MyDrive/BANGKIT_CAPSTONE/dataset/mixed/domestic/00 - domestic - audio 19.wav: 3\n",
            "281 /content/drive/MyDrive/BANGKIT_CAPSTONE/dataset/mixed/domestic/00 - domestic - audio 85.wav: 3\n"
          ]
        },
        {
          "output_type": "stream",
          "name": "stderr",
          "text": [
            "/usr/local/lib/python3.7/dist-packages/librosa/core/audio.py:165: UserWarning: PySoundFile failed. Trying audioread instead.\n",
            "  warnings.warn(\"PySoundFile failed. Trying audioread instead.\")\n"
          ]
        },
        {
          "output_type": "stream",
          "name": "stdout",
          "text": [
            "282 /content/drive/MyDrive/BANGKIT_CAPSTONE/dataset/mixed/domestic/audio 104.ogg: 3\n"
          ]
        },
        {
          "output_type": "stream",
          "name": "stderr",
          "text": [
            "/usr/local/lib/python3.7/dist-packages/librosa/core/audio.py:165: UserWarning: PySoundFile failed. Trying audioread instead.\n",
            "  warnings.warn(\"PySoundFile failed. Trying audioread instead.\")\n"
          ]
        },
        {
          "output_type": "stream",
          "name": "stdout",
          "text": [
            "283 /content/drive/MyDrive/BANGKIT_CAPSTONE/dataset/mixed/domestic/audio 21.ogg: 3\n"
          ]
        },
        {
          "output_type": "stream",
          "name": "stderr",
          "text": [
            "/usr/local/lib/python3.7/dist-packages/librosa/core/audio.py:165: UserWarning: PySoundFile failed. Trying audioread instead.\n",
            "  warnings.warn(\"PySoundFile failed. Trying audioread instead.\")\n"
          ]
        },
        {
          "output_type": "stream",
          "name": "stdout",
          "text": [
            "284 /content/drive/MyDrive/BANGKIT_CAPSTONE/dataset/mixed/domestic/audio 111.ogg: 3\n"
          ]
        },
        {
          "output_type": "stream",
          "name": "stderr",
          "text": [
            "/usr/local/lib/python3.7/dist-packages/librosa/core/audio.py:165: UserWarning: PySoundFile failed. Trying audioread instead.\n",
            "  warnings.warn(\"PySoundFile failed. Trying audioread instead.\")\n"
          ]
        },
        {
          "output_type": "stream",
          "name": "stdout",
          "text": [
            "285 /content/drive/MyDrive/BANGKIT_CAPSTONE/dataset/mixed/domestic/audio 29.ogg: 3\n"
          ]
        },
        {
          "output_type": "stream",
          "name": "stderr",
          "text": [
            "/usr/local/lib/python3.7/dist-packages/librosa/core/audio.py:165: UserWarning: PySoundFile failed. Trying audioread instead.\n",
            "  warnings.warn(\"PySoundFile failed. Trying audioread instead.\")\n"
          ]
        },
        {
          "output_type": "stream",
          "name": "stdout",
          "text": [
            "286 /content/drive/MyDrive/BANGKIT_CAPSTONE/dataset/mixed/domestic/audio 61.ogg: 3\n"
          ]
        },
        {
          "output_type": "stream",
          "name": "stderr",
          "text": [
            "/usr/local/lib/python3.7/dist-packages/librosa/core/audio.py:165: UserWarning: PySoundFile failed. Trying audioread instead.\n",
            "  warnings.warn(\"PySoundFile failed. Trying audioread instead.\")\n"
          ]
        },
        {
          "output_type": "stream",
          "name": "stdout",
          "text": [
            "287 /content/drive/MyDrive/BANGKIT_CAPSTONE/dataset/mixed/domestic/audio 66.ogg: 3\n",
            "288 /content/drive/MyDrive/BANGKIT_CAPSTONE/dataset/mixed/domestic/00 - domestic - audio 105.wav: 3\n"
          ]
        },
        {
          "output_type": "stream",
          "name": "stderr",
          "text": [
            "/usr/local/lib/python3.7/dist-packages/librosa/core/audio.py:165: UserWarning: PySoundFile failed. Trying audioread instead.\n",
            "  warnings.warn(\"PySoundFile failed. Trying audioread instead.\")\n"
          ]
        },
        {
          "output_type": "stream",
          "name": "stdout",
          "text": [
            "289 /content/drive/MyDrive/BANGKIT_CAPSTONE/dataset/mixed/domestic/audio 112.ogg: 3\n"
          ]
        },
        {
          "output_type": "stream",
          "name": "stderr",
          "text": [
            "/usr/local/lib/python3.7/dist-packages/librosa/core/audio.py:165: UserWarning: PySoundFile failed. Trying audioread instead.\n",
            "  warnings.warn(\"PySoundFile failed. Trying audioread instead.\")\n"
          ]
        },
        {
          "output_type": "stream",
          "name": "stdout",
          "text": [
            "290 /content/drive/MyDrive/BANGKIT_CAPSTONE/dataset/mixed/domestic/audio 99.ogg: 3\n"
          ]
        },
        {
          "output_type": "stream",
          "name": "stderr",
          "text": [
            "/usr/local/lib/python3.7/dist-packages/librosa/core/audio.py:165: UserWarning: PySoundFile failed. Trying audioread instead.\n",
            "  warnings.warn(\"PySoundFile failed. Trying audioread instead.\")\n"
          ]
        },
        {
          "output_type": "stream",
          "name": "stdout",
          "text": [
            "291 /content/drive/MyDrive/BANGKIT_CAPSTONE/dataset/mixed/domestic/audio 101.ogg: 3\n",
            "292 /content/drive/MyDrive/BANGKIT_CAPSTONE/dataset/mixed/domestic/00 - domestic - audio 29.wav: 3\n",
            "293 /content/drive/MyDrive/BANGKIT_CAPSTONE/dataset/mixed/domestic/00 - domestic - audio 103.wav: 3\n",
            "294 /content/drive/MyDrive/BANGKIT_CAPSTONE/dataset/mixed/domestic/00 - Dataset - WhatsApp Audio 2021-05-23 at 07.43.49 (1).wav: 3\n"
          ]
        },
        {
          "output_type": "stream",
          "name": "stderr",
          "text": [
            "/usr/local/lib/python3.7/dist-packages/librosa/core/audio.py:165: UserWarning: PySoundFile failed. Trying audioread instead.\n",
            "  warnings.warn(\"PySoundFile failed. Trying audioread instead.\")\n"
          ]
        },
        {
          "output_type": "stream",
          "name": "stdout",
          "text": [
            "295 /content/drive/MyDrive/BANGKIT_CAPSTONE/dataset/mixed/domestic/audio 106.ogg: 3\n"
          ]
        },
        {
          "output_type": "stream",
          "name": "stderr",
          "text": [
            "/usr/local/lib/python3.7/dist-packages/librosa/core/audio.py:165: UserWarning: PySoundFile failed. Trying audioread instead.\n",
            "  warnings.warn(\"PySoundFile failed. Trying audioread instead.\")\n"
          ]
        },
        {
          "output_type": "stream",
          "name": "stdout",
          "text": [
            "296 /content/drive/MyDrive/BANGKIT_CAPSTONE/dataset/mixed/domestic/audio 23.ogg: 3\n",
            "297 /content/drive/MyDrive/BANGKIT_CAPSTONE/dataset/mixed/domestic/00 - domestic - audio 66.wav: 3\n"
          ]
        },
        {
          "output_type": "stream",
          "name": "stderr",
          "text": [
            "/usr/local/lib/python3.7/dist-packages/librosa/core/audio.py:165: UserWarning: PySoundFile failed. Trying audioread instead.\n",
            "  warnings.warn(\"PySoundFile failed. Trying audioread instead.\")\n"
          ]
        },
        {
          "output_type": "stream",
          "name": "stdout",
          "text": [
            "298 /content/drive/MyDrive/BANGKIT_CAPSTONE/dataset/mixed/domestic/audio 109.ogg: 3\n"
          ]
        },
        {
          "output_type": "stream",
          "name": "stderr",
          "text": [
            "/usr/local/lib/python3.7/dist-packages/librosa/core/audio.py:165: UserWarning: PySoundFile failed. Trying audioread instead.\n",
            "  warnings.warn(\"PySoundFile failed. Trying audioread instead.\")\n"
          ]
        },
        {
          "output_type": "stream",
          "name": "stdout",
          "text": [
            "299 /content/drive/MyDrive/BANGKIT_CAPSTONE/dataset/mixed/domestic/audio 103.ogg: 3\n"
          ]
        },
        {
          "output_type": "stream",
          "name": "stderr",
          "text": [
            "/usr/local/lib/python3.7/dist-packages/librosa/core/audio.py:165: UserWarning: PySoundFile failed. Trying audioread instead.\n",
            "  warnings.warn(\"PySoundFile failed. Trying audioread instead.\")\n"
          ]
        },
        {
          "output_type": "stream",
          "name": "stdout",
          "text": [
            "300 /content/drive/MyDrive/BANGKIT_CAPSTONE/dataset/mixed/domestic/audio 69.ogg: 3\n",
            "301 /content/drive/MyDrive/BANGKIT_CAPSTONE/dataset/mixed/domestic/00 - domestic - audio 38.wav: 3\n",
            "302 /content/drive/MyDrive/BANGKIT_CAPSTONE/dataset/mixed/domestic/00 - domestic - audio 32.wav: 3\n"
          ]
        },
        {
          "output_type": "stream",
          "name": "stderr",
          "text": [
            "/usr/local/lib/python3.7/dist-packages/librosa/core/audio.py:165: UserWarning: PySoundFile failed. Trying audioread instead.\n",
            "  warnings.warn(\"PySoundFile failed. Trying audioread instead.\")\n"
          ]
        },
        {
          "output_type": "stream",
          "name": "stdout",
          "text": [
            "303 /content/drive/MyDrive/BANGKIT_CAPSTONE/dataset/mixed/domestic/audio 105.ogg: 3\n",
            "304 /content/drive/MyDrive/BANGKIT_CAPSTONE/dataset/mixed/domestic/00 - domestic - audio 71.wav: 3\n",
            "305 /content/drive/MyDrive/BANGKIT_CAPSTONE/dataset/mixed/domestic/00 - domestic - audio 24.wav: 3\n",
            "306 /content/drive/MyDrive/BANGKIT_CAPSTONE/dataset/mixed/domestic/00 - domestic - audio 112.wav: 3\n"
          ]
        },
        {
          "output_type": "stream",
          "name": "stderr",
          "text": [
            "/usr/local/lib/python3.7/dist-packages/librosa/core/audio.py:165: UserWarning: PySoundFile failed. Trying audioread instead.\n",
            "  warnings.warn(\"PySoundFile failed. Trying audioread instead.\")\n"
          ]
        },
        {
          "output_type": "stream",
          "name": "stdout",
          "text": [
            "307 /content/drive/MyDrive/BANGKIT_CAPSTONE/dataset/mixed/domestic/audio 120.ogg: 3\n"
          ]
        },
        {
          "output_type": "stream",
          "name": "stderr",
          "text": [
            "/usr/local/lib/python3.7/dist-packages/librosa/core/audio.py:165: UserWarning: PySoundFile failed. Trying audioread instead.\n",
            "  warnings.warn(\"PySoundFile failed. Trying audioread instead.\")\n"
          ]
        },
        {
          "output_type": "stream",
          "name": "stdout",
          "text": [
            "308 /content/drive/MyDrive/BANGKIT_CAPSTONE/dataset/mixed/domestic/audio 26.ogg: 3\n"
          ]
        },
        {
          "output_type": "stream",
          "name": "stderr",
          "text": [
            "/usr/local/lib/python3.7/dist-packages/librosa/core/audio.py:165: UserWarning: PySoundFile failed. Trying audioread instead.\n",
            "  warnings.warn(\"PySoundFile failed. Trying audioread instead.\")\n"
          ]
        },
        {
          "output_type": "stream",
          "name": "stdout",
          "text": [
            "309 /content/drive/MyDrive/BANGKIT_CAPSTONE/dataset/mixed/domestic/audio 64.ogg: 3\n"
          ]
        },
        {
          "output_type": "stream",
          "name": "stderr",
          "text": [
            "/usr/local/lib/python3.7/dist-packages/librosa/core/audio.py:165: UserWarning: PySoundFile failed. Trying audioread instead.\n",
            "  warnings.warn(\"PySoundFile failed. Trying audioread instead.\")\n"
          ]
        },
        {
          "output_type": "stream",
          "name": "stdout",
          "text": [
            "310 /content/drive/MyDrive/BANGKIT_CAPSTONE/dataset/mixed/domestic/audio 118.ogg: 3\n",
            "311 /content/drive/MyDrive/BANGKIT_CAPSTONE/dataset/mixed/domestic/00 - domestic - audio 107.wav: 3\n",
            "312 /content/drive/MyDrive/BANGKIT_CAPSTONE/dataset/mixed/domestic/00 - domestic - audio 21.wav: 3\n",
            "313 /content/drive/MyDrive/BANGKIT_CAPSTONE/dataset/mixed/domestic/00 - domestic - audio 101.wav: 3\n"
          ]
        },
        {
          "output_type": "stream",
          "name": "stderr",
          "text": [
            "/usr/local/lib/python3.7/dist-packages/librosa/core/audio.py:165: UserWarning: PySoundFile failed. Trying audioread instead.\n",
            "  warnings.warn(\"PySoundFile failed. Trying audioread instead.\")\n"
          ]
        },
        {
          "output_type": "stream",
          "name": "stdout",
          "text": [
            "314 /content/drive/MyDrive/BANGKIT_CAPSTONE/dataset/mixed/domestic/audio 67.ogg: 3\n",
            "315 /content/drive/MyDrive/BANGKIT_CAPSTONE/dataset/mixed/domestic/00 - domestic - audio 65.wav: 3\n",
            "316 /content/drive/MyDrive/BANGKIT_CAPSTONE/dataset/mixed/domestic/00 - domestic - audio 110.wav: 3\n",
            "317 /content/drive/MyDrive/BANGKIT_CAPSTONE/dataset/mixed/domestic/00 - domestic - audio 69.wav: 3\n",
            "318 /content/drive/MyDrive/BANGKIT_CAPSTONE/dataset/mixed/domestic/00 - domestic - audio 80.wav: 3\n"
          ]
        },
        {
          "output_type": "stream",
          "name": "stderr",
          "text": [
            "/usr/local/lib/python3.7/dist-packages/librosa/core/audio.py:165: UserWarning: PySoundFile failed. Trying audioread instead.\n",
            "  warnings.warn(\"PySoundFile failed. Trying audioread instead.\")\n"
          ]
        },
        {
          "output_type": "stream",
          "name": "stdout",
          "text": [
            "319 /content/drive/MyDrive/BANGKIT_CAPSTONE/dataset/mixed/domestic/audio 65.ogg: 3\n",
            "320 /content/drive/MyDrive/BANGKIT_CAPSTONE/dataset/mixed/domestic/00 - domestic - audio 109.wav: 3\n"
          ]
        }
      ]
    },
    {
      "cell_type": "code",
      "source": [
        ""
      ],
      "metadata": {
        "id": "HWedg9dHT3gB"
      },
      "execution_count": null,
      "outputs": []
    }
  ]
}